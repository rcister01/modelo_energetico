{
 "cells": [
  {
   "cell_type": "code",
   "execution_count": null,
   "id": "1ac92f5d",
   "metadata": {},
   "outputs": [],
   "source": [
    "import pandas as pd"
   ]
  },
  {
   "cell_type": "code",
   "execution_count": null,
   "id": "9b0be5ab",
   "metadata": {},
   "outputs": [],
   "source": [
    "X_train = pd.read_csv('../raw_data/x_train.csv')"
   ]
  },
  {
   "cell_type": "code",
   "execution_count": null,
   "id": "7b378c90",
   "metadata": {},
   "outputs": [],
   "source": [
    "X_train.head()"
   ]
  },
  {
   "cell_type": "code",
   "execution_count": null,
   "id": "49f21ff6",
   "metadata": {},
   "outputs": [],
   "source": [
    "y_train = pd.read_csv('../raw_data/y_train.csv')"
   ]
  },
  {
   "cell_type": "code",
   "execution_count": null,
   "id": "c7f6c298",
   "metadata": {},
   "outputs": [],
   "source": [
    "y_train.head()"
   ]
  },
  {
   "cell_type": "code",
   "execution_count": null,
   "id": "b06cebab",
   "metadata": {},
   "outputs": [],
   "source": [
    "X_train_ro = X_train[0:2500]\n",
    "X_train_da = X_train[2500:5000]\n",
    "X_train_jo = X_train[5000:7500]"
   ]
  },
  {
   "cell_type": "code",
   "execution_count": null,
   "id": "bfda02d0",
   "metadata": {},
   "outputs": [],
   "source": [
    "y_train_ro = y_train[0:2500]\n",
    "y_train_da = y_train[2500:5000]\n",
    "y_train_jo = y_train[5000:7500]"
   ]
  },
  {
   "cell_type": "code",
   "execution_count": null,
   "id": "0d858160",
   "metadata": {},
   "outputs": [],
   "source": [
    "X_train_ro.head()"
   ]
  },
  {
   "cell_type": "code",
   "execution_count": null,
   "id": "726ca33f",
   "metadata": {},
   "outputs": [],
   "source": []
  }
 ],
 "metadata": {
  "kernelspec": {
   "display_name": "Python 3 (ipykernel)",
   "language": "python",
   "name": "python3"
  },
  "language_info": {
   "codemirror_mode": {
    "name": "ipython",
    "version": 3
   },
   "file_extension": ".py",
   "mimetype": "text/x-python",
   "name": "python",
   "nbconvert_exporter": "python",
   "pygments_lexer": "ipython3",
   "version": "3.8.6"
  },
  "toc": {
   "base_numbering": 1,
   "nav_menu": {},
   "number_sections": true,
   "sideBar": true,
   "skip_h1_title": false,
   "title_cell": "Table of Contents",
   "title_sidebar": "Contents",
   "toc_cell": false,
   "toc_position": {},
   "toc_section_display": true,
   "toc_window_display": false
  }
 },
 "nbformat": 4,
 "nbformat_minor": 5
}
