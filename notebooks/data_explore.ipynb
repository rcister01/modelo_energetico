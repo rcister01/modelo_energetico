{
 "cells": [
  {
   "cell_type": "markdown",
   "id": "b95ebb26",
   "metadata": {},
   "source": [
    "## Importamos las librerías"
   ]
  },
  {
   "cell_type": "code",
   "execution_count": 1,
   "id": "1ac92f5d",
   "metadata": {},
   "outputs": [],
   "source": [
    "import pandas as pd\n",
    "import numpy as np\n",
    "from modelo_energetico.csv_gen import reduce_columns_sum, reduce_columns_avg\n",
    "from modelo_energetico.scaler import MultiScaler\n",
    "from sklearn.model_selection import train_test_split\n",
    "from sklearn.preprocessing import StandardScaler, RobustScaler, MinMaxScaler\n",
    "from sklearn.pipeline import Pipeline\n",
    "from sklearn.linear_model import SGDRegressor, Lasso, Ridge\n",
    "from sklearn.model_selection import GridSearchCV, RandomizedSearchCV\n",
    "from sklearn.inspection import permutation_importance"
   ]
  },
  {
   "cell_type": "code",
   "execution_count": null,
   "id": "1541fadf",
   "metadata": {},
   "outputs": [],
   "source": [
    "from google.colab import drive\n",
    "\n",
    "drive.mount('/content/gdrive')."
   ]
  },
  {
   "cell_type": "markdown",
   "id": "6991ef15",
   "metadata": {},
   "source": [
    "SI QUIEREN ACCEDER A UNA CARPETA QUE LES COMPARTIERON, TENDRÁN QUE AGREGAR UN ACCESO DIRECTO EN drive\n",
    "hagan click derecho en la carpeta en drive y elijan \"añadir acceso directo\""
   ]
  },
  {
   "cell_type": "markdown",
   "id": "0215e969",
   "metadata": {},
   "source": [
    "## Cargamos los datasets"
   ]
  },
  {
   "cell_type": "code",
   "execution_count": 3,
   "id": "9b0be5ab",
   "metadata": {},
   "outputs": [
    {
     "name": "stdout",
     "output_type": "stream",
     "text": [
      "(7500, 12115)\n",
      "(7500, 5376)\n"
     ]
    }
   ],
   "source": [
    "X = pd.read_csv('../raw_data/X_train.csv', index_col = 0)\n",
    "y = pd.read_csv('../raw_data/y_train.csv', index_col = 0)\n",
    "\n",
    "print(X.shape)\n",
    "print(y.shape)"
   ]
  },
  {
   "cell_type": "markdown",
   "id": "7f45af13",
   "metadata": {},
   "source": [
    "### Reducimos los features"
   ]
  },
  {
   "cell_type": "code",
   "execution_count": 4,
   "id": "b0cc28cd",
   "metadata": {},
   "outputs": [
    {
     "data": {
      "text/plain": [
       "['ac_t_conf',\n",
       " 'ac_t_red',\n",
       " 'ac_mask',\n",
       " 'heat_t_conf',\n",
       " 'heat_t_red',\n",
       " 'heat_mask',\n",
       " 'ventilation_t',\n",
       " 'ventilation_vol',\n",
       " 'ventilation_mask',\n",
       " 'occupancy',\n",
       " 'pc_on_mask',\n",
       " 'DNI',\n",
       " 'IBEAM_H',\n",
       " 'IBEAM_N',\n",
       " 'IDIFF_H',\n",
       " 'IGLOB_H',\n",
       " 'RHUM',\n",
       " 'TAMB']"
      ]
     },
     "execution_count": 4,
     "metadata": {},
     "output_type": "execute_result"
    }
   ],
   "source": [
    "columns_s = [x[:-4] for x in X.columns if '671' in x]\n",
    "columns_s"
   ]
  },
  {
   "cell_type": "code",
   "execution_count": 5,
   "id": "c2decaed",
   "metadata": {},
   "outputs": [
    {
     "data": {
      "text/html": [
       "<div>\n",
       "<style scoped>\n",
       "    .dataframe tbody tr th:only-of-type {\n",
       "        vertical-align: middle;\n",
       "    }\n",
       "\n",
       "    .dataframe tbody tr th {\n",
       "        vertical-align: top;\n",
       "    }\n",
       "\n",
       "    .dataframe thead th {\n",
       "        text-align: right;\n",
       "    }\n",
       "</style>\n",
       "<table border=\"1\" class=\"dataframe\">\n",
       "  <thead>\n",
       "    <tr style=\"text-align: right;\">\n",
       "      <th></th>\n",
       "      <th>ac_t_conf_0</th>\n",
       "      <th>ac_t_conf_1</th>\n",
       "      <th>ac_t_conf_2</th>\n",
       "      <th>ac_t_red_0</th>\n",
       "      <th>ac_t_red_1</th>\n",
       "      <th>ac_t_red_2</th>\n",
       "      <th>ac_mask_0</th>\n",
       "      <th>ac_mask_1</th>\n",
       "      <th>ac_mask_2</th>\n",
       "      <th>heat_t_conf_0</th>\n",
       "      <th>...</th>\n",
       "      <th>IDIFF_H_2</th>\n",
       "      <th>IGLOB_H_0</th>\n",
       "      <th>IGLOB_H_1</th>\n",
       "      <th>IGLOB_H_2</th>\n",
       "      <th>RHUM_0</th>\n",
       "      <th>RHUM_1</th>\n",
       "      <th>RHUM_2</th>\n",
       "      <th>TAMB_0</th>\n",
       "      <th>TAMB_1</th>\n",
       "      <th>TAMB_2</th>\n",
       "    </tr>\n",
       "  </thead>\n",
       "  <tbody>\n",
       "    <tr>\n",
       "      <th>0</th>\n",
       "      <td>23.428571</td>\n",
       "      <td>23.428571</td>\n",
       "      <td>23.428571</td>\n",
       "      <td>25.642857</td>\n",
       "      <td>25.642857</td>\n",
       "      <td>25.642857</td>\n",
       "      <td>0.053571</td>\n",
       "      <td>0.946429</td>\n",
       "      <td>0.303571</td>\n",
       "      <td>20.571429</td>\n",
       "      <td>...</td>\n",
       "      <td>147.718750</td>\n",
       "      <td>2.700893</td>\n",
       "      <td>505.281250</td>\n",
       "      <td>266.441964</td>\n",
       "      <td>72.629464</td>\n",
       "      <td>60.138393</td>\n",
       "      <td>53.383929</td>\n",
       "      <td>17.085268</td>\n",
       "      <td>20.870089</td>\n",
       "      <td>22.535714</td>\n",
       "    </tr>\n",
       "    <tr>\n",
       "      <th>1</th>\n",
       "      <td>23.357143</td>\n",
       "      <td>23.357143</td>\n",
       "      <td>23.357143</td>\n",
       "      <td>25.642857</td>\n",
       "      <td>25.642857</td>\n",
       "      <td>25.642857</td>\n",
       "      <td>0.017857</td>\n",
       "      <td>0.910714</td>\n",
       "      <td>0.357143</td>\n",
       "      <td>20.642857</td>\n",
       "      <td>...</td>\n",
       "      <td>58.053571</td>\n",
       "      <td>0.191964</td>\n",
       "      <td>365.825893</td>\n",
       "      <td>90.406250</td>\n",
       "      <td>26.383929</td>\n",
       "      <td>22.035714</td>\n",
       "      <td>20.857143</td>\n",
       "      <td>7.985268</td>\n",
       "      <td>11.346875</td>\n",
       "      <td>11.779018</td>\n",
       "    </tr>\n",
       "    <tr>\n",
       "      <th>2</th>\n",
       "      <td>23.357143</td>\n",
       "      <td>23.357143</td>\n",
       "      <td>23.357143</td>\n",
       "      <td>25.500000</td>\n",
       "      <td>25.500000</td>\n",
       "      <td>25.500000</td>\n",
       "      <td>0.000000</td>\n",
       "      <td>0.857143</td>\n",
       "      <td>0.392857</td>\n",
       "      <td>20.642857</td>\n",
       "      <td>...</td>\n",
       "      <td>119.321429</td>\n",
       "      <td>0.133929</td>\n",
       "      <td>370.602679</td>\n",
       "      <td>190.968750</td>\n",
       "      <td>70.133929</td>\n",
       "      <td>59.566964</td>\n",
       "      <td>52.245536</td>\n",
       "      <td>10.124107</td>\n",
       "      <td>13.175893</td>\n",
       "      <td>14.609821</td>\n",
       "    </tr>\n",
       "    <tr>\n",
       "      <th>3</th>\n",
       "      <td>23.428571</td>\n",
       "      <td>23.428571</td>\n",
       "      <td>23.428571</td>\n",
       "      <td>25.500000</td>\n",
       "      <td>25.500000</td>\n",
       "      <td>25.500000</td>\n",
       "      <td>0.000000</td>\n",
       "      <td>0.875000</td>\n",
       "      <td>0.321429</td>\n",
       "      <td>20.500000</td>\n",
       "      <td>...</td>\n",
       "      <td>59.727679</td>\n",
       "      <td>0.000000</td>\n",
       "      <td>168.392857</td>\n",
       "      <td>87.758929</td>\n",
       "      <td>84.276786</td>\n",
       "      <td>76.736607</td>\n",
       "      <td>70.763393</td>\n",
       "      <td>13.338393</td>\n",
       "      <td>15.025446</td>\n",
       "      <td>15.795089</td>\n",
       "    </tr>\n",
       "    <tr>\n",
       "      <th>4</th>\n",
       "      <td>23.428571</td>\n",
       "      <td>23.428571</td>\n",
       "      <td>23.428571</td>\n",
       "      <td>25.571429</td>\n",
       "      <td>25.571429</td>\n",
       "      <td>25.571429</td>\n",
       "      <td>0.017857</td>\n",
       "      <td>0.839286</td>\n",
       "      <td>0.339286</td>\n",
       "      <td>20.714286</td>\n",
       "      <td>...</td>\n",
       "      <td>144.674107</td>\n",
       "      <td>2.629464</td>\n",
       "      <td>554.526786</td>\n",
       "      <td>294.299107</td>\n",
       "      <td>69.325893</td>\n",
       "      <td>55.732143</td>\n",
       "      <td>47.866071</td>\n",
       "      <td>17.783482</td>\n",
       "      <td>22.098661</td>\n",
       "      <td>24.245536</td>\n",
       "    </tr>\n",
       "  </tbody>\n",
       "</table>\n",
       "<p>5 rows × 54 columns</p>\n",
       "</div>"
      ],
      "text/plain": [
       "   ac_t_conf_0  ac_t_conf_1  ac_t_conf_2  ac_t_red_0  ac_t_red_1  ac_t_red_2  \\\n",
       "0    23.428571    23.428571    23.428571   25.642857   25.642857   25.642857   \n",
       "1    23.357143    23.357143    23.357143   25.642857   25.642857   25.642857   \n",
       "2    23.357143    23.357143    23.357143   25.500000   25.500000   25.500000   \n",
       "3    23.428571    23.428571    23.428571   25.500000   25.500000   25.500000   \n",
       "4    23.428571    23.428571    23.428571   25.571429   25.571429   25.571429   \n",
       "\n",
       "   ac_mask_0  ac_mask_1  ac_mask_2  heat_t_conf_0  ...   IDIFF_H_2  IGLOB_H_0  \\\n",
       "0   0.053571   0.946429   0.303571      20.571429  ...  147.718750   2.700893   \n",
       "1   0.017857   0.910714   0.357143      20.642857  ...   58.053571   0.191964   \n",
       "2   0.000000   0.857143   0.392857      20.642857  ...  119.321429   0.133929   \n",
       "3   0.000000   0.875000   0.321429      20.500000  ...   59.727679   0.000000   \n",
       "4   0.017857   0.839286   0.339286      20.714286  ...  144.674107   2.629464   \n",
       "\n",
       "    IGLOB_H_1   IGLOB_H_2     RHUM_0     RHUM_1     RHUM_2     TAMB_0  \\\n",
       "0  505.281250  266.441964  72.629464  60.138393  53.383929  17.085268   \n",
       "1  365.825893   90.406250  26.383929  22.035714  20.857143   7.985268   \n",
       "2  370.602679  190.968750  70.133929  59.566964  52.245536  10.124107   \n",
       "3  168.392857   87.758929  84.276786  76.736607  70.763393  13.338393   \n",
       "4  554.526786  294.299107  69.325893  55.732143  47.866071  17.783482   \n",
       "\n",
       "      TAMB_1     TAMB_2  \n",
       "0  20.870089  22.535714  \n",
       "1  11.346875  11.779018  \n",
       "2  13.175893  14.609821  \n",
       "3  15.025446  15.795089  \n",
       "4  22.098661  24.245536  \n",
       "\n",
       "[5 rows x 54 columns]"
      ]
     },
     "execution_count": 5,
     "metadata": {},
     "output_type": "execute_result"
    }
   ],
   "source": [
    "X_red = reduce_columns_avg(X, columns_s, 3)\n",
    "X_red.head()"
   ]
  },
  {
   "cell_type": "code",
   "execution_count": 6,
   "id": "53589fbb",
   "metadata": {
    "scrolled": true
   },
   "outputs": [
    {
     "data": {
      "text/plain": [
       "Index(['airchange_infiltration_vol_per_h', 'capacitance_kJ_perdegreK_perm3',\n",
       "       'power_VCV_kW_heat', 'power_VCV_kW_clim', 'nb_occupants', 'nb_PCs',\n",
       "       'facade_1_thickness_2', 'facade_1_window_area_percent',\n",
       "       'facade_2_thickness_2', 'facade_2_window_area_percent',\n",
       "       'facade_3_thickness_2', 'facade_3_window_area_percent',\n",
       "       'facade_4_thickness_2', 'facade_4_window_area_percent',\n",
       "       'roof_thickness_2', 'ground_thickness_2', 'init_day', 'init_month',\n",
       "       'init_year'],\n",
       "      dtype='object')"
      ]
     },
     "execution_count": 6,
     "metadata": {},
     "output_type": "execute_result"
    }
   ],
   "source": [
    "columns_c = X.columns[0:19]\n",
    "columns_c"
   ]
  },
  {
   "cell_type": "code",
   "execution_count": 7,
   "id": "95d5eb82",
   "metadata": {},
   "outputs": [
    {
     "data": {
      "text/plain": [
       "Index(['airchange_infiltration_vol_per_h', 'capacitance_kJ_perdegreK_perm3',\n",
       "       'power_VCV_kW_heat', 'power_VCV_kW_clim', 'nb_occupants', 'nb_PCs',\n",
       "       'facade_1_thickness_2', 'facade_1_window_area_percent',\n",
       "       'facade_2_thickness_2', 'facade_2_window_area_percent',\n",
       "       'facade_3_thickness_2', 'facade_3_window_area_percent',\n",
       "       'facade_4_thickness_2', 'facade_4_window_area_percent',\n",
       "       'roof_thickness_2', 'ground_thickness_2'],\n",
       "      dtype='object')"
      ]
     },
     "execution_count": 7,
     "metadata": {},
     "output_type": "execute_result"
    }
   ],
   "source": [
    "columns_c = X.columns[0:16]\n",
    "columns_c"
   ]
  },
  {
   "cell_type": "code",
   "execution_count": 8,
   "id": "491d08c5",
   "metadata": {},
   "outputs": [],
   "source": [
    "X = pd.concat([X[columns_c], X_red], axis = 1)"
   ]
  },
  {
   "cell_type": "markdown",
   "id": "483bb47a",
   "metadata": {},
   "source": [
    "### Reducimos los targets"
   ]
  },
  {
   "cell_type": "code",
   "execution_count": 9,
   "id": "cff32d2f",
   "metadata": {},
   "outputs": [
    {
     "data": {
      "text/plain": [
       "['Q_AC_OFFICE',\n",
       " 'Q_HEAT_OFFICE',\n",
       " 'Q_PEOPLE',\n",
       " 'Q_EQP',\n",
       " 'Q_LIGHT',\n",
       " 'Q_AHU_C',\n",
       " 'Q_AHU_H',\n",
       " 'T_INT_OFFICE']"
      ]
     },
     "execution_count": 9,
     "metadata": {},
     "output_type": "execute_result"
    }
   ],
   "source": [
    "columns_s = [x[:-4] for x in y.columns if '671' in x]\n",
    "columns_s"
   ]
  },
  {
   "cell_type": "code",
   "execution_count": 10,
   "id": "f946ed04",
   "metadata": {
    "scrolled": true
   },
   "outputs": [
    {
     "data": {
      "text/html": [
       "<div>\n",
       "<style scoped>\n",
       "    .dataframe tbody tr th:only-of-type {\n",
       "        vertical-align: middle;\n",
       "    }\n",
       "\n",
       "    .dataframe tbody tr th {\n",
       "        vertical-align: top;\n",
       "    }\n",
       "\n",
       "    .dataframe thead th {\n",
       "        text-align: right;\n",
       "    }\n",
       "</style>\n",
       "<table border=\"1\" class=\"dataframe\">\n",
       "  <thead>\n",
       "    <tr style=\"text-align: right;\">\n",
       "      <th></th>\n",
       "      <th>Q_AC_OFFICE_0</th>\n",
       "      <th>Q_HEAT_OFFICE_0</th>\n",
       "      <th>Q_PEOPLE_0</th>\n",
       "      <th>Q_EQP_0</th>\n",
       "      <th>Q_LIGHT_0</th>\n",
       "      <th>Q_AHU_C_0</th>\n",
       "      <th>Q_AHU_H_0</th>\n",
       "      <th>Q_TOTAL</th>\n",
       "    </tr>\n",
       "  </thead>\n",
       "  <tbody>\n",
       "    <tr>\n",
       "      <th>0</th>\n",
       "      <td>10748.1049</td>\n",
       "      <td>0.0000</td>\n",
       "      <td>3240.0</td>\n",
       "      <td>3874.3458</td>\n",
       "      <td>2112.2700</td>\n",
       "      <td>3890.5751</td>\n",
       "      <td>1096.6969</td>\n",
       "      <td>24961.9927</td>\n",
       "    </tr>\n",
       "    <tr>\n",
       "      <th>1</th>\n",
       "      <td>1819.3670</td>\n",
       "      <td>469.0627</td>\n",
       "      <td>4212.0</td>\n",
       "      <td>5667.4181</td>\n",
       "      <td>2151.4910</td>\n",
       "      <td>40.6438</td>\n",
       "      <td>7093.4597</td>\n",
       "      <td>21453.4423</td>\n",
       "    </tr>\n",
       "    <tr>\n",
       "      <th>2</th>\n",
       "      <td>6245.3497</td>\n",
       "      <td>0.0000</td>\n",
       "      <td>4860.0</td>\n",
       "      <td>6409.7036</td>\n",
       "      <td>2027.7509</td>\n",
       "      <td>662.0432</td>\n",
       "      <td>4612.1041</td>\n",
       "      <td>24816.9515</td>\n",
       "    </tr>\n",
       "    <tr>\n",
       "      <th>3</th>\n",
       "      <td>2372.0553</td>\n",
       "      <td>0.0000</td>\n",
       "      <td>4212.0</td>\n",
       "      <td>6605.6016</td>\n",
       "      <td>2739.8060</td>\n",
       "      <td>285.1977</td>\n",
       "      <td>2852.4764</td>\n",
       "      <td>19067.1370</td>\n",
       "    </tr>\n",
       "    <tr>\n",
       "      <th>4</th>\n",
       "      <td>15234.8404</td>\n",
       "      <td>0.0000</td>\n",
       "      <td>3240.0</td>\n",
       "      <td>7581.4202</td>\n",
       "      <td>2093.6939</td>\n",
       "      <td>3937.5324</td>\n",
       "      <td>520.0846</td>\n",
       "      <td>32607.5715</td>\n",
       "    </tr>\n",
       "  </tbody>\n",
       "</table>\n",
       "</div>"
      ],
      "text/plain": [
       "   Q_AC_OFFICE_0  Q_HEAT_OFFICE_0  Q_PEOPLE_0    Q_EQP_0  Q_LIGHT_0  \\\n",
       "0     10748.1049           0.0000      3240.0  3874.3458  2112.2700   \n",
       "1      1819.3670         469.0627      4212.0  5667.4181  2151.4910   \n",
       "2      6245.3497           0.0000      4860.0  6409.7036  2027.7509   \n",
       "3      2372.0553           0.0000      4212.0  6605.6016  2739.8060   \n",
       "4     15234.8404           0.0000      3240.0  7581.4202  2093.6939   \n",
       "\n",
       "   Q_AHU_C_0  Q_AHU_H_0     Q_TOTAL  \n",
       "0  3890.5751  1096.6969  24961.9927  \n",
       "1    40.6438  7093.4597  21453.4423  \n",
       "2   662.0432  4612.1041  24816.9515  \n",
       "3   285.1977  2852.4764  19067.1370  \n",
       "4  3937.5324   520.0846  32607.5715  "
      ]
     },
     "execution_count": 10,
     "metadata": {},
     "output_type": "execute_result"
    }
   ],
   "source": [
    "y_red = reduce_columns_sum(y, ['Q_AC_OFFICE', 'Q_HEAT_OFFICE', 'Q_PEOPLE', 'Q_EQP', 'Q_LIGHT', 'Q_AHU_C', 'Q_AHU_H'], 1)\n",
    "y_red['Q_TOTAL'] = y_red.sum(axis = 1)\n",
    "y_red.head()"
   ]
  },
  {
   "cell_type": "code",
   "execution_count": 11,
   "id": "0f937f67",
   "metadata": {},
   "outputs": [
    {
     "data": {
      "text/html": [
       "<div>\n",
       "<style scoped>\n",
       "    .dataframe tbody tr th:only-of-type {\n",
       "        vertical-align: middle;\n",
       "    }\n",
       "\n",
       "    .dataframe tbody tr th {\n",
       "        vertical-align: top;\n",
       "    }\n",
       "\n",
       "    .dataframe thead th {\n",
       "        text-align: right;\n",
       "    }\n",
       "</style>\n",
       "<table border=\"1\" class=\"dataframe\">\n",
       "  <thead>\n",
       "    <tr style=\"text-align: right;\">\n",
       "      <th></th>\n",
       "      <th>T_INT_OFFICE_0</th>\n",
       "    </tr>\n",
       "  </thead>\n",
       "  <tbody>\n",
       "    <tr>\n",
       "      <th>0</th>\n",
       "      <td>24.175757</td>\n",
       "    </tr>\n",
       "    <tr>\n",
       "      <th>1</th>\n",
       "      <td>21.766815</td>\n",
       "    </tr>\n",
       "    <tr>\n",
       "      <th>2</th>\n",
       "      <td>23.245216</td>\n",
       "    </tr>\n",
       "    <tr>\n",
       "      <th>3</th>\n",
       "      <td>22.806492</td>\n",
       "    </tr>\n",
       "    <tr>\n",
       "      <th>4</th>\n",
       "      <td>24.106955</td>\n",
       "    </tr>\n",
       "  </tbody>\n",
       "</table>\n",
       "</div>"
      ],
      "text/plain": [
       "   T_INT_OFFICE_0\n",
       "0       24.175757\n",
       "1       21.766815\n",
       "2       23.245216\n",
       "3       22.806492\n",
       "4       24.106955"
      ]
     },
     "execution_count": 11,
     "metadata": {},
     "output_type": "execute_result"
    }
   ],
   "source": [
    "y_red_t = reduce_columns_avg(y, ['T_INT_OFFICE'], 1)\n",
    "y_red_t.head()"
   ]
  },
  {
   "cell_type": "code",
   "execution_count": 12,
   "id": "ce737ee5",
   "metadata": {},
   "outputs": [
    {
     "data": {
      "text/html": [
       "<div>\n",
       "<style scoped>\n",
       "    .dataframe tbody tr th:only-of-type {\n",
       "        vertical-align: middle;\n",
       "    }\n",
       "\n",
       "    .dataframe tbody tr th {\n",
       "        vertical-align: top;\n",
       "    }\n",
       "\n",
       "    .dataframe thead th {\n",
       "        text-align: right;\n",
       "    }\n",
       "</style>\n",
       "<table border=\"1\" class=\"dataframe\">\n",
       "  <thead>\n",
       "    <tr style=\"text-align: right;\">\n",
       "      <th></th>\n",
       "      <th>Q_TOTAL</th>\n",
       "      <th>T_INT_OFFICE_0</th>\n",
       "    </tr>\n",
       "  </thead>\n",
       "  <tbody>\n",
       "    <tr>\n",
       "      <th>0</th>\n",
       "      <td>24961.9927</td>\n",
       "      <td>24.175757</td>\n",
       "    </tr>\n",
       "    <tr>\n",
       "      <th>1</th>\n",
       "      <td>21453.4423</td>\n",
       "      <td>21.766815</td>\n",
       "    </tr>\n",
       "    <tr>\n",
       "      <th>2</th>\n",
       "      <td>24816.9515</td>\n",
       "      <td>23.245216</td>\n",
       "    </tr>\n",
       "    <tr>\n",
       "      <th>3</th>\n",
       "      <td>19067.1370</td>\n",
       "      <td>22.806492</td>\n",
       "    </tr>\n",
       "    <tr>\n",
       "      <th>4</th>\n",
       "      <td>32607.5715</td>\n",
       "      <td>24.106955</td>\n",
       "    </tr>\n",
       "  </tbody>\n",
       "</table>\n",
       "</div>"
      ],
      "text/plain": [
       "      Q_TOTAL  T_INT_OFFICE_0\n",
       "0  24961.9927       24.175757\n",
       "1  21453.4423       21.766815\n",
       "2  24816.9515       23.245216\n",
       "3  19067.1370       22.806492\n",
       "4  32607.5715       24.106955"
      ]
     },
     "execution_count": 12,
     "metadata": {},
     "output_type": "execute_result"
    }
   ],
   "source": [
    "y = pd.concat([y_red['Q_TOTAL'], y_red_t], axis = 1)\n",
    "y.head()"
   ]
  },
  {
   "cell_type": "markdown",
   "id": "46a02b27",
   "metadata": {},
   "source": [
    "### Corroboramos los nuevos shapes"
   ]
  },
  {
   "cell_type": "code",
   "execution_count": 13,
   "id": "c7570d44",
   "metadata": {},
   "outputs": [
    {
     "name": "stdout",
     "output_type": "stream",
     "text": [
      "(7500, 70)\n",
      "(7500, 2)\n"
     ]
    }
   ],
   "source": [
    "print(X.shape)\n",
    "print(y.shape)"
   ]
  },
  {
   "cell_type": "markdown",
   "id": "c6e67fa7",
   "metadata": {},
   "source": [
    "## Spliteamos los datasets"
   ]
  },
  {
   "cell_type": "code",
   "execution_count": 14,
   "id": "af8875c6",
   "metadata": {},
   "outputs": [],
   "source": [
    "X_train, X_test, y_train, y_test = train_test_split(X, y, test_size=0.3, random_state=42)"
   ]
  },
  {
   "cell_type": "code",
   "execution_count": 15,
   "id": "49f21ff6",
   "metadata": {
    "scrolled": true
   },
   "outputs": [
    {
     "name": "stdout",
     "output_type": "stream",
     "text": [
      "(5250, 70)\n",
      "(5250, 2)\n",
      "(2250, 70)\n",
      "(2250, 2)\n"
     ]
    }
   ],
   "source": [
    "print(X_train.shape)\n",
    "print(y_train.shape)\n",
    "print(X_test.shape)\n",
    "print(y_test.shape)"
   ]
  },
  {
   "cell_type": "markdown",
   "id": "18c87c77",
   "metadata": {},
   "source": [
    "## Buscamos modelo óptimo para predecir temperatura y consumo"
   ]
  },
  {
   "cell_type": "markdown",
   "id": "dc42a79d",
   "metadata": {},
   "source": [
    "### Modelo para temperatura"
   ]
  },
  {
   "cell_type": "code",
   "execution_count": 16,
   "id": "b09fe0fb",
   "metadata": {
    "scrolled": true
   },
   "outputs": [
    {
     "data": {
      "text/plain": [
       "array([[1.        ],\n",
       "       [0.66666667],\n",
       "       [0.        ],\n",
       "       ...,\n",
       "       [0.33333333],\n",
       "       [1.        ],\n",
       "       [0.33333333]])"
      ]
     },
     "execution_count": 16,
     "metadata": {},
     "output_type": "execute_result"
    }
   ],
   "source": [
    "prueba = X_train[[\"airchange_infiltration_vol_per_h\"]]\n",
    "scaler = MultiScaler(MinMaxScaler())\n",
    "scaler.fit(prueba)\n",
    "scaler.transform(prueba)"
   ]
  },
  {
   "cell_type": "code",
   "execution_count": 17,
   "id": "5b5bd771",
   "metadata": {},
   "outputs": [],
   "source": [
    "pipe = Pipeline([\n",
    "          (\"scaling\" , MultiScaler(scaler = \"RobustScaler\")),\n",
    "          (\"model\", SGDRegressor(max_iter=50000, early_stopping=True, n_iter_no_change=3, tol=1e-3))\n",
    "])"
   ]
  },
  {
   "cell_type": "code",
   "execution_count": 18,
   "id": "0484c29b",
   "metadata": {},
   "outputs": [
    {
     "name": "stdout",
     "output_type": "stream",
     "text": [
      "memory\n",
      "steps\n",
      "verbose\n",
      "scaling\n",
      "model\n",
      "scaling__scaler\n",
      "model__alpha\n",
      "model__average\n",
      "model__early_stopping\n",
      "model__epsilon\n",
      "model__eta0\n",
      "model__fit_intercept\n",
      "model__l1_ratio\n",
      "model__learning_rate\n",
      "model__loss\n",
      "model__max_iter\n",
      "model__n_iter_no_change\n",
      "model__penalty\n",
      "model__power_t\n",
      "model__random_state\n",
      "model__shuffle\n",
      "model__tol\n",
      "model__validation_fraction\n",
      "model__verbose\n",
      "model__warm_start\n"
     ]
    }
   ],
   "source": [
    "for i in pipe.get_params().keys():\n",
    "    print(i)"
   ]
  },
  {
   "cell_type": "code",
   "execution_count": null,
   "id": "1ebb979b",
   "metadata": {
    "scrolled": true
   },
   "outputs": [],
   "source": [
    "X_train_t = X_train\n",
    "y_train_t = y_train\n",
    "\n",
    "params = {\n",
    "    'scaling__scaler' : [StandardScaler(), RobustScaler(), MinMaxScaler() ],     \n",
    "    'model__loss': ['huber', 'epsilon_insensitive', 'squared_epsilon_insensitive'],\n",
    "    'model__alpha': [1, 0.1, 0.01, 0.001, 0.0001],\n",
    "    'model__l1_ratio': [1, 0.1, 0.01, 0.001, 0.0001],\n",
    "}\n",
    "\n",
    "grid = GridSearchCV(pipe, \n",
    "                    param_grid= params, \n",
    "                    cv=10,\n",
    "                    n_jobs=-1,\n",
    "                    verbose=1,\n",
    "                    scoring = 'r2'\n",
    "                   )\n",
    "\n",
    "grid.fit(X_train_t,y_train_t['T_INT_OFFICE_0'])"
   ]
  },
  {
   "cell_type": "code",
   "execution_count": null,
   "id": "693c28e6",
   "metadata": {},
   "outputs": [],
   "source": [
    "best_model = grid.best_estimator_\n",
    "best_model"
   ]
  },
  {
   "cell_type": "markdown",
   "id": "4d3b8990",
   "metadata": {},
   "source": [
    "### Buscamos los parámetros negativos para el score de temperatura"
   ]
  },
  {
   "cell_type": "code",
   "execution_count": null,
   "id": "1cbce16a",
   "metadata": {},
   "outputs": [],
   "source": [
    "best_model.fit(X_train_t,y_train_t['T_INT_OFFICE_0']) \n",
    "\n",
    "permutation_score = permutation_importance(best_model, X_train_t, y_train_t['T_INT_OFFICE_0'], n_repeats=10) \n",
    "\n",
    "importance_df = pd.DataFrame(np.vstack((X.columns, permutation_score.importances_mean)).T ) \n",
    "importance_df.columns=['feature','score decrease']"
   ]
  },
  {
   "cell_type": "code",
   "execution_count": null,
   "id": "8f9c2a6e",
   "metadata": {},
   "outputs": [],
   "source": [
    "importance_df = importance_df[importance_df['score decrease'] < 0]\n",
    "importance_df.sort_values(by=\"score decrease\", ascending = True)"
   ]
  },
  {
   "cell_type": "code",
   "execution_count": null,
   "id": "513bdd90",
   "metadata": {},
   "outputs": [],
   "source": [
    "neg_score_t = importance_df['feature']\n",
    "neg_score_t"
   ]
  },
  {
   "cell_type": "markdown",
   "id": "e0105a82",
   "metadata": {},
   "source": [
    "### Modelo para consumo"
   ]
  },
  {
   "cell_type": "code",
   "execution_count": 19,
   "id": "c88292a3",
   "metadata": {},
   "outputs": [
    {
     "name": "stdout",
     "output_type": "stream",
     "text": [
      "Fitting 10 folds for each of 225 candidates, totalling 2250 fits\n"
     ]
    },
    {
     "ename": "KeyboardInterrupt",
     "evalue": "",
     "output_type": "error",
     "traceback": [
      "\u001b[0;31m---------------------------------------------------------------------------\u001b[0m",
      "\u001b[0;31mKeyboardInterrupt\u001b[0m                         Traceback (most recent call last)",
      "\u001b[0;32m/tmp/ipykernel_658/3360058406.py\u001b[0m in \u001b[0;36m<module>\u001b[0;34m\u001b[0m\n\u001b[1;32m     17\u001b[0m                    )\n\u001b[1;32m     18\u001b[0m \u001b[0;34m\u001b[0m\u001b[0m\n\u001b[0;32m---> 19\u001b[0;31m \u001b[0mgrid\u001b[0m\u001b[0;34m.\u001b[0m\u001b[0mfit\u001b[0m\u001b[0;34m(\u001b[0m\u001b[0mX_train_q\u001b[0m\u001b[0;34m,\u001b[0m\u001b[0my_train_q\u001b[0m\u001b[0;34m[\u001b[0m\u001b[0;34m'Q_TOTAL'\u001b[0m\u001b[0;34m]\u001b[0m\u001b[0;34m)\u001b[0m\u001b[0;34m\u001b[0m\u001b[0;34m\u001b[0m\u001b[0m\n\u001b[0m",
      "\u001b[0;32m~/.pyenv/versions/3.8.6/envs/modelo_energetico/lib/python3.8/site-packages/sklearn/model_selection/_search.py\u001b[0m in \u001b[0;36mfit\u001b[0;34m(self, X, y, groups, **fit_params)\u001b[0m\n\u001b[1;32m    889\u001b[0m                 \u001b[0;32mreturn\u001b[0m \u001b[0mresults\u001b[0m\u001b[0;34m\u001b[0m\u001b[0;34m\u001b[0m\u001b[0m\n\u001b[1;32m    890\u001b[0m \u001b[0;34m\u001b[0m\u001b[0m\n\u001b[0;32m--> 891\u001b[0;31m             \u001b[0mself\u001b[0m\u001b[0;34m.\u001b[0m\u001b[0m_run_search\u001b[0m\u001b[0;34m(\u001b[0m\u001b[0mevaluate_candidates\u001b[0m\u001b[0;34m)\u001b[0m\u001b[0;34m\u001b[0m\u001b[0;34m\u001b[0m\u001b[0m\n\u001b[0m\u001b[1;32m    892\u001b[0m \u001b[0;34m\u001b[0m\u001b[0m\n\u001b[1;32m    893\u001b[0m             \u001b[0;31m# multimetric is determined here because in the case of a callable\u001b[0m\u001b[0;34m\u001b[0m\u001b[0;34m\u001b[0m\u001b[0;34m\u001b[0m\u001b[0m\n",
      "\u001b[0;32m~/.pyenv/versions/3.8.6/envs/modelo_energetico/lib/python3.8/site-packages/sklearn/model_selection/_search.py\u001b[0m in \u001b[0;36m_run_search\u001b[0;34m(self, evaluate_candidates)\u001b[0m\n\u001b[1;32m   1390\u001b[0m     \u001b[0;32mdef\u001b[0m \u001b[0m_run_search\u001b[0m\u001b[0;34m(\u001b[0m\u001b[0mself\u001b[0m\u001b[0;34m,\u001b[0m \u001b[0mevaluate_candidates\u001b[0m\u001b[0;34m)\u001b[0m\u001b[0;34m:\u001b[0m\u001b[0;34m\u001b[0m\u001b[0;34m\u001b[0m\u001b[0m\n\u001b[1;32m   1391\u001b[0m         \u001b[0;34m\"\"\"Search all candidates in param_grid\"\"\"\u001b[0m\u001b[0;34m\u001b[0m\u001b[0;34m\u001b[0m\u001b[0m\n\u001b[0;32m-> 1392\u001b[0;31m         \u001b[0mevaluate_candidates\u001b[0m\u001b[0;34m(\u001b[0m\u001b[0mParameterGrid\u001b[0m\u001b[0;34m(\u001b[0m\u001b[0mself\u001b[0m\u001b[0;34m.\u001b[0m\u001b[0mparam_grid\u001b[0m\u001b[0;34m)\u001b[0m\u001b[0;34m)\u001b[0m\u001b[0;34m\u001b[0m\u001b[0;34m\u001b[0m\u001b[0m\n\u001b[0m\u001b[1;32m   1393\u001b[0m \u001b[0;34m\u001b[0m\u001b[0m\n\u001b[1;32m   1394\u001b[0m \u001b[0;34m\u001b[0m\u001b[0m\n",
      "\u001b[0;32m~/.pyenv/versions/3.8.6/envs/modelo_energetico/lib/python3.8/site-packages/sklearn/model_selection/_search.py\u001b[0m in \u001b[0;36mevaluate_candidates\u001b[0;34m(candidate_params, cv, more_results)\u001b[0m\n\u001b[1;32m    836\u001b[0m                     )\n\u001b[1;32m    837\u001b[0m \u001b[0;34m\u001b[0m\u001b[0m\n\u001b[0;32m--> 838\u001b[0;31m                 out = parallel(\n\u001b[0m\u001b[1;32m    839\u001b[0m                     delayed(_fit_and_score)(\n\u001b[1;32m    840\u001b[0m                         \u001b[0mclone\u001b[0m\u001b[0;34m(\u001b[0m\u001b[0mbase_estimator\u001b[0m\u001b[0;34m)\u001b[0m\u001b[0;34m,\u001b[0m\u001b[0;34m\u001b[0m\u001b[0;34m\u001b[0m\u001b[0m\n",
      "\u001b[0;32m~/.pyenv/versions/3.8.6/envs/modelo_energetico/lib/python3.8/site-packages/joblib/parallel.py\u001b[0m in \u001b[0;36m__call__\u001b[0;34m(self, iterable)\u001b[0m\n\u001b[1;32m   1054\u001b[0m \u001b[0;34m\u001b[0m\u001b[0m\n\u001b[1;32m   1055\u001b[0m             \u001b[0;32mwith\u001b[0m \u001b[0mself\u001b[0m\u001b[0;34m.\u001b[0m\u001b[0m_backend\u001b[0m\u001b[0;34m.\u001b[0m\u001b[0mretrieval_context\u001b[0m\u001b[0;34m(\u001b[0m\u001b[0;34m)\u001b[0m\u001b[0;34m:\u001b[0m\u001b[0;34m\u001b[0m\u001b[0;34m\u001b[0m\u001b[0m\n\u001b[0;32m-> 1056\u001b[0;31m                 \u001b[0mself\u001b[0m\u001b[0;34m.\u001b[0m\u001b[0mretrieve\u001b[0m\u001b[0;34m(\u001b[0m\u001b[0;34m)\u001b[0m\u001b[0;34m\u001b[0m\u001b[0;34m\u001b[0m\u001b[0m\n\u001b[0m\u001b[1;32m   1057\u001b[0m             \u001b[0;31m# Make sure that we get a last message telling us we are done\u001b[0m\u001b[0;34m\u001b[0m\u001b[0;34m\u001b[0m\u001b[0;34m\u001b[0m\u001b[0m\n\u001b[1;32m   1058\u001b[0m             \u001b[0melapsed_time\u001b[0m \u001b[0;34m=\u001b[0m \u001b[0mtime\u001b[0m\u001b[0;34m.\u001b[0m\u001b[0mtime\u001b[0m\u001b[0;34m(\u001b[0m\u001b[0;34m)\u001b[0m \u001b[0;34m-\u001b[0m \u001b[0mself\u001b[0m\u001b[0;34m.\u001b[0m\u001b[0m_start_time\u001b[0m\u001b[0;34m\u001b[0m\u001b[0;34m\u001b[0m\u001b[0m\n",
      "\u001b[0;32m~/.pyenv/versions/3.8.6/envs/modelo_energetico/lib/python3.8/site-packages/joblib/parallel.py\u001b[0m in \u001b[0;36mretrieve\u001b[0;34m(self)\u001b[0m\n\u001b[1;32m    933\u001b[0m             \u001b[0;32mtry\u001b[0m\u001b[0;34m:\u001b[0m\u001b[0;34m\u001b[0m\u001b[0;34m\u001b[0m\u001b[0m\n\u001b[1;32m    934\u001b[0m                 \u001b[0;32mif\u001b[0m \u001b[0mgetattr\u001b[0m\u001b[0;34m(\u001b[0m\u001b[0mself\u001b[0m\u001b[0;34m.\u001b[0m\u001b[0m_backend\u001b[0m\u001b[0;34m,\u001b[0m \u001b[0;34m'supports_timeout'\u001b[0m\u001b[0;34m,\u001b[0m \u001b[0;32mFalse\u001b[0m\u001b[0;34m)\u001b[0m\u001b[0;34m:\u001b[0m\u001b[0;34m\u001b[0m\u001b[0;34m\u001b[0m\u001b[0m\n\u001b[0;32m--> 935\u001b[0;31m                     \u001b[0mself\u001b[0m\u001b[0;34m.\u001b[0m\u001b[0m_output\u001b[0m\u001b[0;34m.\u001b[0m\u001b[0mextend\u001b[0m\u001b[0;34m(\u001b[0m\u001b[0mjob\u001b[0m\u001b[0;34m.\u001b[0m\u001b[0mget\u001b[0m\u001b[0;34m(\u001b[0m\u001b[0mtimeout\u001b[0m\u001b[0;34m=\u001b[0m\u001b[0mself\u001b[0m\u001b[0;34m.\u001b[0m\u001b[0mtimeout\u001b[0m\u001b[0;34m)\u001b[0m\u001b[0;34m)\u001b[0m\u001b[0;34m\u001b[0m\u001b[0;34m\u001b[0m\u001b[0m\n\u001b[0m\u001b[1;32m    936\u001b[0m                 \u001b[0;32melse\u001b[0m\u001b[0;34m:\u001b[0m\u001b[0;34m\u001b[0m\u001b[0;34m\u001b[0m\u001b[0m\n\u001b[1;32m    937\u001b[0m                     \u001b[0mself\u001b[0m\u001b[0;34m.\u001b[0m\u001b[0m_output\u001b[0m\u001b[0;34m.\u001b[0m\u001b[0mextend\u001b[0m\u001b[0;34m(\u001b[0m\u001b[0mjob\u001b[0m\u001b[0;34m.\u001b[0m\u001b[0mget\u001b[0m\u001b[0;34m(\u001b[0m\u001b[0;34m)\u001b[0m\u001b[0;34m)\u001b[0m\u001b[0;34m\u001b[0m\u001b[0;34m\u001b[0m\u001b[0m\n",
      "\u001b[0;32m~/.pyenv/versions/3.8.6/envs/modelo_energetico/lib/python3.8/site-packages/joblib/_parallel_backends.py\u001b[0m in \u001b[0;36mwrap_future_result\u001b[0;34m(future, timeout)\u001b[0m\n\u001b[1;32m    540\u001b[0m         AsyncResults.get from multiprocessing.\"\"\"\n\u001b[1;32m    541\u001b[0m         \u001b[0;32mtry\u001b[0m\u001b[0;34m:\u001b[0m\u001b[0;34m\u001b[0m\u001b[0;34m\u001b[0m\u001b[0m\n\u001b[0;32m--> 542\u001b[0;31m             \u001b[0;32mreturn\u001b[0m \u001b[0mfuture\u001b[0m\u001b[0;34m.\u001b[0m\u001b[0mresult\u001b[0m\u001b[0;34m(\u001b[0m\u001b[0mtimeout\u001b[0m\u001b[0;34m=\u001b[0m\u001b[0mtimeout\u001b[0m\u001b[0;34m)\u001b[0m\u001b[0;34m\u001b[0m\u001b[0;34m\u001b[0m\u001b[0m\n\u001b[0m\u001b[1;32m    543\u001b[0m         \u001b[0;32mexcept\u001b[0m \u001b[0mCfTimeoutError\u001b[0m \u001b[0;32mas\u001b[0m \u001b[0me\u001b[0m\u001b[0;34m:\u001b[0m\u001b[0;34m\u001b[0m\u001b[0;34m\u001b[0m\u001b[0m\n\u001b[1;32m    544\u001b[0m             \u001b[0;32mraise\u001b[0m \u001b[0mTimeoutError\u001b[0m \u001b[0;32mfrom\u001b[0m \u001b[0me\u001b[0m\u001b[0;34m\u001b[0m\u001b[0;34m\u001b[0m\u001b[0m\n",
      "\u001b[0;32m~/.pyenv/versions/3.8.6/lib/python3.8/concurrent/futures/_base.py\u001b[0m in \u001b[0;36mresult\u001b[0;34m(self, timeout)\u001b[0m\n\u001b[1;32m    432\u001b[0m                 \u001b[0;32mreturn\u001b[0m \u001b[0mself\u001b[0m\u001b[0;34m.\u001b[0m\u001b[0m__get_result\u001b[0m\u001b[0;34m(\u001b[0m\u001b[0;34m)\u001b[0m\u001b[0;34m\u001b[0m\u001b[0;34m\u001b[0m\u001b[0m\n\u001b[1;32m    433\u001b[0m \u001b[0;34m\u001b[0m\u001b[0m\n\u001b[0;32m--> 434\u001b[0;31m             \u001b[0mself\u001b[0m\u001b[0;34m.\u001b[0m\u001b[0m_condition\u001b[0m\u001b[0;34m.\u001b[0m\u001b[0mwait\u001b[0m\u001b[0;34m(\u001b[0m\u001b[0mtimeout\u001b[0m\u001b[0;34m)\u001b[0m\u001b[0;34m\u001b[0m\u001b[0;34m\u001b[0m\u001b[0m\n\u001b[0m\u001b[1;32m    435\u001b[0m \u001b[0;34m\u001b[0m\u001b[0m\n\u001b[1;32m    436\u001b[0m             \u001b[0;32mif\u001b[0m \u001b[0mself\u001b[0m\u001b[0;34m.\u001b[0m\u001b[0m_state\u001b[0m \u001b[0;32min\u001b[0m \u001b[0;34m[\u001b[0m\u001b[0mCANCELLED\u001b[0m\u001b[0;34m,\u001b[0m \u001b[0mCANCELLED_AND_NOTIFIED\u001b[0m\u001b[0;34m]\u001b[0m\u001b[0;34m:\u001b[0m\u001b[0;34m\u001b[0m\u001b[0;34m\u001b[0m\u001b[0m\n",
      "\u001b[0;32m~/.pyenv/versions/3.8.6/lib/python3.8/threading.py\u001b[0m in \u001b[0;36mwait\u001b[0;34m(self, timeout)\u001b[0m\n\u001b[1;32m    300\u001b[0m         \u001b[0;32mtry\u001b[0m\u001b[0;34m:\u001b[0m    \u001b[0;31m# restore state no matter what (e.g., KeyboardInterrupt)\u001b[0m\u001b[0;34m\u001b[0m\u001b[0;34m\u001b[0m\u001b[0m\n\u001b[1;32m    301\u001b[0m             \u001b[0;32mif\u001b[0m \u001b[0mtimeout\u001b[0m \u001b[0;32mis\u001b[0m \u001b[0;32mNone\u001b[0m\u001b[0;34m:\u001b[0m\u001b[0;34m\u001b[0m\u001b[0;34m\u001b[0m\u001b[0m\n\u001b[0;32m--> 302\u001b[0;31m                 \u001b[0mwaiter\u001b[0m\u001b[0;34m.\u001b[0m\u001b[0macquire\u001b[0m\u001b[0;34m(\u001b[0m\u001b[0;34m)\u001b[0m\u001b[0;34m\u001b[0m\u001b[0;34m\u001b[0m\u001b[0m\n\u001b[0m\u001b[1;32m    303\u001b[0m                 \u001b[0mgotit\u001b[0m \u001b[0;34m=\u001b[0m \u001b[0;32mTrue\u001b[0m\u001b[0;34m\u001b[0m\u001b[0;34m\u001b[0m\u001b[0m\n\u001b[1;32m    304\u001b[0m             \u001b[0;32melse\u001b[0m\u001b[0;34m:\u001b[0m\u001b[0;34m\u001b[0m\u001b[0;34m\u001b[0m\u001b[0m\n",
      "\u001b[0;31mKeyboardInterrupt\u001b[0m: "
     ]
    }
   ],
   "source": [
    "X_train_q = X_train\n",
    "y_train_q = y_train\n",
    "\n",
    "params = {\n",
    "    'scaling__scaler' : [StandardScaler(), RobustScaler(), MinMaxScaler() ],     \n",
    "    'model__loss': ['huber', 'epsilon_insensitive', 'squared_epsilon_insensitive'],\n",
    "    'model__alpha': [1, 0.1, 0.01, 0.001, 0.0001],\n",
    "    'model__l1_ratio': [1, 0.1, 0.01, 0.001, 0.0001],\n",
    "}\n",
    "\n",
    "grid = GridSearchCV(pipe, \n",
    "                    param_grid= params, \n",
    "                    cv=10,\n",
    "                    n_jobs=-1,\n",
    "                    verbose=1,\n",
    "                    scoring = 'r2'\n",
    "                   )\n",
    "\n",
    "grid.fit(X_train_q,y_train_q['Q_TOTAL'])"
   ]
  },
  {
   "cell_type": "code",
   "execution_count": null,
   "id": "da276c79",
   "metadata": {},
   "outputs": [],
   "source": [
    "best_model = grid.best_estimator_\n",
    "best_model"
   ]
  },
  {
   "cell_type": "markdown",
   "id": "e063e35a",
   "metadata": {},
   "source": [
    "### Buscamos los parámetros negativos para el score de consumo"
   ]
  },
  {
   "cell_type": "code",
   "execution_count": null,
   "id": "e0cab351",
   "metadata": {},
   "outputs": [],
   "source": [
    "best_model.fit(X_train_t,y_train_t['Q_TOTAL']) \n",
    "\n",
    "permutation_score = permutation_importance(best_model, X_train_t, y_train_t['Q_TOTAL'], n_repeats=10) \n",
    "\n",
    "importance_df = pd.DataFrame(np.vstack((X.columns, permutation_score.importances_mean)).T ) \n",
    "importance_df.columns=['feature','score decrease']"
   ]
  },
  {
   "cell_type": "code",
   "execution_count": null,
   "id": "6601fc0d",
   "metadata": {},
   "outputs": [],
   "source": [
    "importance_df = importance_df[importance_df['score decrease'] < 0]\n",
    "importance_df.sort_values(by=\"score decrease\", ascending = True)"
   ]
  },
  {
   "cell_type": "code",
   "execution_count": null,
   "id": "5e342d24",
   "metadata": {},
   "outputs": [],
   "source": [
    "neg_score_t = importance_df['feature']\n",
    "neg_score_t"
   ]
  }
 ],
 "metadata": {
  "kernelspec": {
   "display_name": "Python 3 (ipykernel)",
   "language": "python",
   "name": "python3"
  },
  "language_info": {
   "codemirror_mode": {
    "name": "ipython",
    "version": 3
   },
   "file_extension": ".py",
   "mimetype": "text/x-python",
   "name": "python",
   "nbconvert_exporter": "python",
   "pygments_lexer": "ipython3",
   "version": "3.8.6"
  },
  "toc": {
   "base_numbering": 1,
   "nav_menu": {},
   "number_sections": true,
   "sideBar": true,
   "skip_h1_title": false,
   "title_cell": "Table of Contents",
   "title_sidebar": "Contents",
   "toc_cell": false,
   "toc_position": {},
   "toc_section_display": true,
   "toc_window_display": false
  }
 },
 "nbformat": 4,
 "nbformat_minor": 5
}
