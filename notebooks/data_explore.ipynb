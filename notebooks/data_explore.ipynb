{
 "cells": [
  {
   "cell_type": "markdown",
   "id": "b95ebb26",
   "metadata": {},
   "source": [
    "## Importamos las librerías"
   ]
  },
  {
   "cell_type": "code",
   "execution_count": 1,
   "id": "1ac92f5d",
   "metadata": {},
   "outputs": [],
   "source": [
    "import pandas as pd\n",
    "import numpy as np\n",
    "from modelo_energetico.csv_gen import reduce_columns_sum, reduce_columns_avg, reduce_columns_period_avg, reduce_columns_period_sum\n",
    "from modelo_energetico.scaler import MultiScaler\n",
    "from sklearn.model_selection import train_test_split\n",
    "from sklearn.preprocessing import StandardScaler, RobustScaler, MinMaxScaler\n",
    "from sklearn.pipeline import Pipeline\n",
    "from sklearn.linear_model import SGDRegressor, Lasso, Ridge\n",
    "from sklearn.model_selection import GridSearchCV, RandomizedSearchCV\n",
    "from sklearn.inspection import permutation_importance\n",
    "from sklearn.preprocessing import OrdinalEncoder"
   ]
  },
  {
   "cell_type": "markdown",
   "id": "0215e969",
   "metadata": {},
   "source": [
    "## Cargamos los datasets"
   ]
  },
  {
   "cell_type": "code",
   "execution_count": 2,
   "id": "9b0be5ab",
   "metadata": {},
   "outputs": [
    {
     "name": "stdout",
     "output_type": "stream",
     "text": [
      "(7500, 12115)\n",
      "(7500, 5376)\n"
     ]
    }
   ],
   "source": [
    "X = pd.read_csv('../raw_data/X_train.csv', index_col = 0)\n",
    "y = pd.read_csv('../raw_data/y_train.csv', index_col = 0)\n",
    "\n",
    "print(X.shape)\n",
    "print(y.shape)"
   ]
  },
  {
   "cell_type": "markdown",
   "id": "7f45af13",
   "metadata": {},
   "source": [
    "### Reducimos los features"
   ]
  },
  {
   "cell_type": "code",
   "execution_count": 3,
   "id": "b0cc28cd",
   "metadata": {},
   "outputs": [
    {
     "data": {
      "text/plain": [
       "['ac_t_conf',\n",
       " 'ac_t_red',\n",
       " 'ac_mask',\n",
       " 'heat_t_conf',\n",
       " 'heat_t_red',\n",
       " 'heat_mask',\n",
       " 'ventilation_t',\n",
       " 'ventilation_vol',\n",
       " 'ventilation_mask',\n",
       " 'occupancy',\n",
       " 'pc_on_mask',\n",
       " 'DNI',\n",
       " 'IBEAM_H',\n",
       " 'IBEAM_N',\n",
       " 'IDIFF_H',\n",
       " 'IGLOB_H',\n",
       " 'RHUM',\n",
       " 'TAMB']"
      ]
     },
     "execution_count": 3,
     "metadata": {},
     "output_type": "execute_result"
    }
   ],
   "source": [
    "columns_s = [x[:-4] for x in X.columns if '671' in x]\n",
    "columns_s"
   ]
  },
  {
   "cell_type": "code",
   "execution_count": 5,
   "id": "95872e42",
   "metadata": {},
   "outputs": [
    {
     "name": "stderr",
     "output_type": "stream",
     "text": [
      "/home/davidp/code/rcister01/modelo_energetico/modelo_energetico/csv_gen.py:49: PerformanceWarning: DataFrame is highly fragmented.  This is usually the result of calling `frame.insert` many times, which has poor performance.  Consider joining all columns at once using pd.concat(axis=1) instead.  To get a de-fragmented frame, use `newframe = frame.copy()`\n",
      "  new_dataframe[f'{column}_{i}'] = np.zeros(dataframe.shape[0])\n"
     ]
    },
    {
     "data": {
      "text/html": [
       "<div>\n",
       "<style scoped>\n",
       "    .dataframe tbody tr th:only-of-type {\n",
       "        vertical-align: middle;\n",
       "    }\n",
       "\n",
       "    .dataframe tbody tr th {\n",
       "        vertical-align: top;\n",
       "    }\n",
       "\n",
       "    .dataframe thead th {\n",
       "        text-align: right;\n",
       "    }\n",
       "</style>\n",
       "<table border=\"1\" class=\"dataframe\">\n",
       "  <thead>\n",
       "    <tr style=\"text-align: right;\">\n",
       "      <th></th>\n",
       "      <th>ac_t_conf_0</th>\n",
       "      <th>ac_t_conf_1</th>\n",
       "      <th>ac_t_conf_2</th>\n",
       "      <th>ac_t_conf_3</th>\n",
       "      <th>ac_t_conf_4</th>\n",
       "      <th>ac_t_conf_5</th>\n",
       "      <th>ac_t_conf_6</th>\n",
       "      <th>ac_t_red_0</th>\n",
       "      <th>ac_t_red_1</th>\n",
       "      <th>ac_t_red_2</th>\n",
       "      <th>...</th>\n",
       "      <th>RHUM_4</th>\n",
       "      <th>RHUM_5</th>\n",
       "      <th>RHUM_6</th>\n",
       "      <th>TAMB_0</th>\n",
       "      <th>TAMB_1</th>\n",
       "      <th>TAMB_2</th>\n",
       "      <th>TAMB_3</th>\n",
       "      <th>TAMB_4</th>\n",
       "      <th>TAMB_5</th>\n",
       "      <th>TAMB_6</th>\n",
       "    </tr>\n",
       "  </thead>\n",
       "  <tbody>\n",
       "    <tr>\n",
       "      <th>0</th>\n",
       "      <td>2280.0</td>\n",
       "      <td>2232.0</td>\n",
       "      <td>2256.0</td>\n",
       "      <td>2256.0</td>\n",
       "      <td>2232.0</td>\n",
       "      <td>2256.0</td>\n",
       "      <td>2232.0</td>\n",
       "      <td>2436.0</td>\n",
       "      <td>2484.0</td>\n",
       "      <td>2448.0</td>\n",
       "      <td>...</td>\n",
       "      <td>5631.0</td>\n",
       "      <td>5711.0</td>\n",
       "      <td>4601.0</td>\n",
       "      <td>1554.7</td>\n",
       "      <td>1472.9</td>\n",
       "      <td>1571.7</td>\n",
       "      <td>2029.3</td>\n",
       "      <td>1900.6</td>\n",
       "      <td>2595.2</td>\n",
       "      <td>2425.6</td>\n",
       "    </tr>\n",
       "    <tr>\n",
       "      <th>1</th>\n",
       "      <td>2244.0</td>\n",
       "      <td>2244.0</td>\n",
       "      <td>2232.0</td>\n",
       "      <td>2244.0</td>\n",
       "      <td>2256.0</td>\n",
       "      <td>2244.0</td>\n",
       "      <td>2232.0</td>\n",
       "      <td>2472.0</td>\n",
       "      <td>2436.0</td>\n",
       "      <td>2484.0</td>\n",
       "      <td>...</td>\n",
       "      <td>4418.0</td>\n",
       "      <td>5608.0</td>\n",
       "      <td>5492.0</td>\n",
       "      <td>781.5</td>\n",
       "      <td>955.0</td>\n",
       "      <td>1044.2</td>\n",
       "      <td>921.0</td>\n",
       "      <td>1124.8</td>\n",
       "      <td>1177.7</td>\n",
       "      <td>964.7</td>\n",
       "    </tr>\n",
       "    <tr>\n",
       "      <th>2</th>\n",
       "      <td>2232.0</td>\n",
       "      <td>2256.0</td>\n",
       "      <td>2220.0</td>\n",
       "      <td>2268.0</td>\n",
       "      <td>2232.0</td>\n",
       "      <td>2244.0</td>\n",
       "      <td>2244.0</td>\n",
       "      <td>2448.0</td>\n",
       "      <td>2460.0</td>\n",
       "      <td>2448.0</td>\n",
       "      <td>...</td>\n",
       "      <td>6402.0</td>\n",
       "      <td>6899.0</td>\n",
       "      <td>6099.0</td>\n",
       "      <td>738.9</td>\n",
       "      <td>1477.1</td>\n",
       "      <td>1861.1</td>\n",
       "      <td>1201.0</td>\n",
       "      <td>1132.3</td>\n",
       "      <td>962.9</td>\n",
       "      <td>1118.5</td>\n",
       "    </tr>\n",
       "    <tr>\n",
       "      <th>3</th>\n",
       "      <td>2232.0</td>\n",
       "      <td>2268.0</td>\n",
       "      <td>2244.0</td>\n",
       "      <td>2244.0</td>\n",
       "      <td>2244.0</td>\n",
       "      <td>2256.0</td>\n",
       "      <td>2256.0</td>\n",
       "      <td>2436.0</td>\n",
       "      <td>2448.0</td>\n",
       "      <td>2460.0</td>\n",
       "      <td>...</td>\n",
       "      <td>7254.0</td>\n",
       "      <td>7645.0</td>\n",
       "      <td>8826.0</td>\n",
       "      <td>1629.2</td>\n",
       "      <td>1392.3</td>\n",
       "      <td>1399.1</td>\n",
       "      <td>1338.9</td>\n",
       "      <td>1640.4</td>\n",
       "      <td>1334.5</td>\n",
       "      <td>1157.2</td>\n",
       "    </tr>\n",
       "    <tr>\n",
       "      <th>4</th>\n",
       "      <td>2256.0</td>\n",
       "      <td>2256.0</td>\n",
       "      <td>2244.0</td>\n",
       "      <td>2268.0</td>\n",
       "      <td>2220.0</td>\n",
       "      <td>2268.0</td>\n",
       "      <td>2232.0</td>\n",
       "      <td>2448.0</td>\n",
       "      <td>2448.0</td>\n",
       "      <td>2472.0</td>\n",
       "      <td>...</td>\n",
       "      <td>5325.0</td>\n",
       "      <td>4793.0</td>\n",
       "      <td>4206.0</td>\n",
       "      <td>1430.4</td>\n",
       "      <td>1682.3</td>\n",
       "      <td>2021.3</td>\n",
       "      <td>2100.0</td>\n",
       "      <td>2603.8</td>\n",
       "      <td>2284.2</td>\n",
       "      <td>2242.6</td>\n",
       "    </tr>\n",
       "  </tbody>\n",
       "</table>\n",
       "<p>5 rows × 126 columns</p>\n",
       "</div>"
      ],
      "text/plain": [
       "   ac_t_conf_0  ac_t_conf_1  ac_t_conf_2  ac_t_conf_3  ac_t_conf_4  \\\n",
       "0       2280.0       2232.0       2256.0       2256.0       2232.0   \n",
       "1       2244.0       2244.0       2232.0       2244.0       2256.0   \n",
       "2       2232.0       2256.0       2220.0       2268.0       2232.0   \n",
       "3       2232.0       2268.0       2244.0       2244.0       2244.0   \n",
       "4       2256.0       2256.0       2244.0       2268.0       2220.0   \n",
       "\n",
       "   ac_t_conf_5  ac_t_conf_6  ac_t_red_0  ac_t_red_1  ac_t_red_2  ...  RHUM_4  \\\n",
       "0       2256.0       2232.0      2436.0      2484.0      2448.0  ...  5631.0   \n",
       "1       2244.0       2232.0      2472.0      2436.0      2484.0  ...  4418.0   \n",
       "2       2244.0       2244.0      2448.0      2460.0      2448.0  ...  6402.0   \n",
       "3       2256.0       2256.0      2436.0      2448.0      2460.0  ...  7254.0   \n",
       "4       2268.0       2232.0      2448.0      2448.0      2472.0  ...  5325.0   \n",
       "\n",
       "   RHUM_5  RHUM_6  TAMB_0  TAMB_1  TAMB_2  TAMB_3  TAMB_4  TAMB_5  TAMB_6  \n",
       "0  5711.0  4601.0  1554.7  1472.9  1571.7  2029.3  1900.6  2595.2  2425.6  \n",
       "1  5608.0  5492.0   781.5   955.0  1044.2   921.0  1124.8  1177.7   964.7  \n",
       "2  6899.0  6099.0   738.9  1477.1  1861.1  1201.0  1132.3   962.9  1118.5  \n",
       "3  7645.0  8826.0  1629.2  1392.3  1399.1  1338.9  1640.4  1334.5  1157.2  \n",
       "4  4793.0  4206.0  1430.4  1682.3  2021.3  2100.0  2603.8  2284.2  2242.6  \n",
       "\n",
       "[5 rows x 126 columns]"
      ]
     },
     "execution_count": 5,
     "metadata": {},
     "output_type": "execute_result"
    }
   ],
   "source": [
    "X_red_1 = reduce_columns_period_sum(X, columns_s, 4)\n",
    "X_red_1.head()"
   ]
  },
  {
   "cell_type": "code",
   "execution_count": null,
   "id": "c2decaed",
   "metadata": {},
   "outputs": [],
   "source": [
    "X_red = reduce_columns_avg(X, columns_s, 3)\n",
    "X_red.head()"
   ]
  },
  {
   "cell_type": "code",
   "execution_count": null,
   "id": "53589fbb",
   "metadata": {
    "scrolled": true
   },
   "outputs": [],
   "source": [
    "columns_c = X.columns[0:19]\n",
    "columns_c"
   ]
  },
  {
   "cell_type": "code",
   "execution_count": null,
   "id": "95d5eb82",
   "metadata": {},
   "outputs": [],
   "source": [
    "columns_c = X.columns[0:16]"
   ]
  },
  {
   "cell_type": "code",
   "execution_count": null,
   "id": "3d1b95e8",
   "metadata": {
    "scrolled": true
   },
   "outputs": [],
   "source": [
    "unique_values = X[columns_c].nunique(dropna=False, )\n",
    "unique_values.sort_values(ascending=True)"
   ]
  },
  {
   "cell_type": "code",
   "execution_count": null,
   "id": "8c325f3b",
   "metadata": {},
   "outputs": [],
   "source": [
    "columns_c = unique_values.sort_values(ascending=True).keys()[1:]"
   ]
  },
  {
   "cell_type": "code",
   "execution_count": null,
   "id": "929c5342",
   "metadata": {},
   "outputs": [],
   "source": [
    "ordinal_encoder = OrdinalEncoder()\n",
    "ordinal_encoder.fit(X[columns_c])"
   ]
  },
  {
   "cell_type": "code",
   "execution_count": null,
   "id": "491d08c5",
   "metadata": {},
   "outputs": [],
   "source": [
    "X = pd.concat([X[columns_c], X_red], axis = 1)"
   ]
  },
  {
   "cell_type": "code",
   "execution_count": null,
   "id": "9943d3f3",
   "metadata": {},
   "outputs": [],
   "source": [
    "X.head()"
   ]
  },
  {
   "cell_type": "markdown",
   "id": "483bb47a",
   "metadata": {},
   "source": [
    "### Reducimos los targets"
   ]
  },
  {
   "cell_type": "code",
   "execution_count": null,
   "id": "cff32d2f",
   "metadata": {},
   "outputs": [],
   "source": [
    "columns_s = [x[:-4] for x in y.columns if '671' in x]\n",
    "columns_s"
   ]
  },
  {
   "cell_type": "code",
   "execution_count": null,
   "id": "f946ed04",
   "metadata": {
    "scrolled": true
   },
   "outputs": [],
   "source": [
    "y_red = reduce_columns_sum(y, ['Q_AC_OFFICE', 'Q_HEAT_OFFICE', 'Q_PEOPLE', 'Q_EQP', 'Q_LIGHT', 'Q_AHU_C', 'Q_AHU_H'], 1)\n",
    "y_red['Q_TOTAL'] = y_red.sum(axis = 1)\n",
    "y_red.head()"
   ]
  },
  {
   "cell_type": "code",
   "execution_count": null,
   "id": "0f937f67",
   "metadata": {},
   "outputs": [],
   "source": [
    "y_red_t = reduce_columns_avg(y, ['T_INT_OFFICE'], 1)\n",
    "y_red_t.head()"
   ]
  },
  {
   "cell_type": "code",
   "execution_count": null,
   "id": "ce737ee5",
   "metadata": {},
   "outputs": [],
   "source": [
    "y = pd.concat([y_red['Q_TOTAL'], y_red_t], axis = 1)\n",
    "y.head()"
   ]
  },
  {
   "cell_type": "markdown",
   "id": "46a02b27",
   "metadata": {},
   "source": [
    "### Corroboramos los nuevos shapes"
   ]
  },
  {
   "cell_type": "code",
   "execution_count": null,
   "id": "c7570d44",
   "metadata": {},
   "outputs": [],
   "source": [
    "print(X.shape)\n",
    "print(y.shape)"
   ]
  },
  {
   "cell_type": "markdown",
   "id": "c6e67fa7",
   "metadata": {},
   "source": [
    "## Spliteamos los datasets"
   ]
  },
  {
   "cell_type": "code",
   "execution_count": null,
   "id": "af8875c6",
   "metadata": {},
   "outputs": [],
   "source": [
    "X_train, X_test, y_train, y_test = train_test_split(X, y, test_size=0.3, random_state=42)"
   ]
  },
  {
   "cell_type": "code",
   "execution_count": null,
   "id": "49f21ff6",
   "metadata": {
    "scrolled": true
   },
   "outputs": [],
   "source": [
    "print(X_train.shape)\n",
    "print(y_train.shape)\n",
    "print(X_test.shape)\n",
    "print(y_test.shape)"
   ]
  },
  {
   "cell_type": "markdown",
   "id": "18c87c77",
   "metadata": {},
   "source": [
    "## Buscamos modelo óptimo para predecir temperatura y consumo"
   ]
  },
  {
   "cell_type": "markdown",
   "id": "dc42a79d",
   "metadata": {},
   "source": [
    "### Modelo para temperatura"
   ]
  },
  {
   "cell_type": "code",
   "execution_count": null,
   "id": "5b5bd771",
   "metadata": {},
   "outputs": [],
   "source": [
    "pipe = Pipeline([\n",
    "          (\"scaling\" , MultiScaler(scaler = \"RobustScaler\")),\n",
    "          (\"model\", SGDRegressor(max_iter=50000, early_stopping=True, n_iter_no_change=3, tol=1e-3))\n",
    "])"
   ]
  },
  {
   "cell_type": "code",
   "execution_count": null,
   "id": "0484c29b",
   "metadata": {},
   "outputs": [],
   "source": [
    "for i in pipe.get_params().keys():\n",
    "    print(i)"
   ]
  },
  {
   "cell_type": "code",
   "execution_count": null,
   "id": "1ebb979b",
   "metadata": {
    "scrolled": true
   },
   "outputs": [],
   "source": [
    "X_train_t = X_train\n",
    "y_train_t = y_train\n",
    "\n",
    "params = {\n",
    "    'scaling__scaler' : [StandardScaler(), RobustScaler(), MinMaxScaler() ],     \n",
    "    'model__loss': ['huber', 'epsilon_insensitive', 'squared_epsilon_insensitive'],\n",
    "    'model__alpha': [1, 0.1, 0.01, 0.001, 0.0001],\n",
    "    'model__l1_ratio': [1, 0.1, 0.01, 0.001, 0.0001],\n",
    "}\n",
    "\n",
    "grid = GridSearchCV(pipe, \n",
    "                    param_grid= params, \n",
    "                    cv=10,\n",
    "                    n_jobs=-1,\n",
    "                    verbose=1,\n",
    "                    scoring = 'r2'\n",
    "                   )\n",
    "\n",
    "grid.fit(X_train_t,y_train_t['T_INT_OFFICE_0'])"
   ]
  },
  {
   "cell_type": "code",
   "execution_count": null,
   "id": "693c28e6",
   "metadata": {},
   "outputs": [],
   "source": [
    "best_model = grid.best_estimator_\n",
    "best_model"
   ]
  },
  {
   "cell_type": "markdown",
   "id": "4d3b8990",
   "metadata": {},
   "source": [
    "### Buscamos los parámetros negativos para el score de temperatura"
   ]
  },
  {
   "cell_type": "code",
   "execution_count": null,
   "id": "1cbce16a",
   "metadata": {},
   "outputs": [],
   "source": [
    "best_model.fit(X_train_t,y_train_t['T_INT_OFFICE_0']) \n",
    "\n",
    "permutation_score = permutation_importance(best_model, X_train_t, y_train_t['T_INT_OFFICE_0'], n_repeats=10) \n",
    "\n",
    "importance_df = pd.DataFrame(np.vstack((X.columns, permutation_score.importances_mean)).T ) \n",
    "importance_df.columns=['feature','score decrease']"
   ]
  },
  {
   "cell_type": "code",
   "execution_count": null,
   "id": "8f9c2a6e",
   "metadata": {},
   "outputs": [],
   "source": [
    "importance_df = importance_df[importance_df['score decrease'] < 0]\n",
    "importance_df.sort_values(by=\"score decrease\", ascending = True)"
   ]
  },
  {
   "cell_type": "code",
   "execution_count": null,
   "id": "513bdd90",
   "metadata": {},
   "outputs": [],
   "source": [
    "neg_score_t = importance_df['feature']\n",
    "neg_score_t"
   ]
  },
  {
   "cell_type": "markdown",
   "id": "e0105a82",
   "metadata": {},
   "source": [
    "### Modelo para consumo"
   ]
  },
  {
   "cell_type": "code",
   "execution_count": null,
   "id": "c88292a3",
   "metadata": {},
   "outputs": [],
   "source": [
    "X_train_q = X_train\n",
    "y_train_q = y_train\n",
    "\n",
    "params = {\n",
    "    'scaling__scaler' : [StandardScaler(), RobustScaler(), MinMaxScaler() ],     \n",
    "    'model__loss': ['huber', 'epsilon_insensitive', 'squared_epsilon_insensitive'],\n",
    "    'model__alpha': [1, 0.1, 0.01, 0.001, 0.0001],\n",
    "    'model__l1_ratio': [1, 0.1, 0.01, 0.001, 0.0001],\n",
    "}\n",
    "\n",
    "grid = GridSearchCV(pipe, \n",
    "                    param_grid= params, \n",
    "                    cv=10,\n",
    "                    n_jobs=-1,\n",
    "                    verbose=1,\n",
    "                    scoring = 'r2'\n",
    "                   )\n",
    "\n",
    "grid.fit(X_train_q,y_train_q['Q_TOTAL'])"
   ]
  },
  {
   "cell_type": "code",
   "execution_count": null,
   "id": "da276c79",
   "metadata": {},
   "outputs": [],
   "source": [
    "best_model = grid.best_estimator_\n",
    "best_model"
   ]
  },
  {
   "cell_type": "markdown",
   "id": "e063e35a",
   "metadata": {},
   "source": [
    "### Buscamos los parámetros negativos para el score de consumo"
   ]
  },
  {
   "cell_type": "code",
   "execution_count": null,
   "id": "e0cab351",
   "metadata": {},
   "outputs": [],
   "source": [
    "best_model.fit(X_train_q,y_train_q['Q_TOTAL']) \n",
    "\n",
    "permutation_score = permutation_importance(best_model, X_train_q, y_train_q['Q_TOTAL'], n_repeats=10) \n",
    "\n",
    "importance_df = pd.DataFrame(np.vstack((X.columns, permutation_score.importances_mean)).T ) \n",
    "importance_df.columns=['feature','score decrease']"
   ]
  },
  {
   "cell_type": "code",
   "execution_count": null,
   "id": "6601fc0d",
   "metadata": {},
   "outputs": [],
   "source": [
    "importance_df = importance_df[importance_df['score decrease'] < 0]\n",
    "importance_df.sort_values(by=\"score decrease\", ascending = True)"
   ]
  },
  {
   "cell_type": "code",
   "execution_count": null,
   "id": "5e342d24",
   "metadata": {},
   "outputs": [],
   "source": [
    "neg_score_t = importance_df['feature']\n",
    "neg_score_t"
   ]
  },
  {
   "cell_type": "code",
   "execution_count": null,
   "id": "a825e1d6",
   "metadata": {},
   "outputs": [],
   "source": []
  }
 ],
 "metadata": {
  "kernelspec": {
   "display_name": "Python 3 (ipykernel)",
   "language": "python",
   "name": "python3"
  },
  "language_info": {
   "codemirror_mode": {
    "name": "ipython",
    "version": 3
   },
   "file_extension": ".py",
   "mimetype": "text/x-python",
   "name": "python",
   "nbconvert_exporter": "python",
   "pygments_lexer": "ipython3",
   "version": "3.8.6"
  },
  "toc": {
   "base_numbering": 1,
   "nav_menu": {},
   "number_sections": true,
   "sideBar": true,
   "skip_h1_title": false,
   "title_cell": "Table of Contents",
   "title_sidebar": "Contents",
   "toc_cell": false,
   "toc_position": {},
   "toc_section_display": true,
   "toc_window_display": false
  }
 },
 "nbformat": 4,
 "nbformat_minor": 5
}
