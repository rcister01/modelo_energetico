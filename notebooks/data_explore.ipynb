{
 "cells": [
  {
   "cell_type": "markdown",
   "id": "b95ebb26",
   "metadata": {},
   "source": [
    "## Importamos las librerías"
   ]
  },
  {
   "cell_type": "code",
   "execution_count": 1,
   "id": "1ac92f5d",
   "metadata": {},
   "outputs": [],
   "source": [
    "import pandas as pd\n",
    "import numpy as np\n",
    "from modelo_energetico.csv_gen import reduce_columns_sum, reduce_columns_avg, reduce_columns_period_avg, reduce_columns_period_sum, total_q_hour\n",
    "from modelo_energetico.scaler import MultiScaler\n",
    "from sklearn.model_selection import train_test_split\n",
    "from sklearn.preprocessing import StandardScaler, RobustScaler, MinMaxScaler\n",
    "from sklearn.pipeline import Pipeline\n",
    "from sklearn.linear_model import SGDRegressor, Lasso, Ridge\n",
    "from sklearn.model_selection import GridSearchCV, RandomizedSearchCV\n",
    "from sklearn.inspection import permutation_importance\n",
    "from sklearn.preprocessing import OrdinalEncoder"
   ]
  },
  {
   "cell_type": "markdown",
   "id": "0215e969",
   "metadata": {},
   "source": [
    "## Cargamos los datasets"
   ]
  },
  {
   "cell_type": "code",
   "execution_count": 2,
   "id": "9b0be5ab",
   "metadata": {},
   "outputs": [
    {
     "name": "stdout",
     "output_type": "stream",
     "text": [
      "(7500, 12115)\n",
      "(7500, 5376)\n"
     ]
    }
   ],
   "source": [
    "X = pd.read_csv('../raw_data/X_train.csv', index_col = 0)\n",
    "y = pd.read_csv('../raw_data/y_train.csv', index_col = 0)\n",
    "\n",
    "print(X.shape)\n",
    "print(y.shape)"
   ]
  },
  {
   "cell_type": "code",
   "execution_count": 3,
   "id": "3dca5c3b",
   "metadata": {},
   "outputs": [],
   "source": [
    "cols_t = y.iloc[: , -672:]\n",
    "X = pd.concat([X, cols_t], axis = 1)\n",
    "y = y.iloc[: , :-672]"
   ]
  },
  {
   "cell_type": "code",
   "execution_count": null,
   "id": "37296436",
   "metadata": {},
   "outputs": [],
   "source": [
    "'Q_AC_OFFICE', 'Q_HEAT_OFFICE', 'Q_PEOPLE', 'Q_EQP', 'Q_LIGHT', 'Q_AHU_C', 'Q_AHU_H'"
   ]
  },
  {
   "cell_type": "code",
   "execution_count": 21,
   "id": "7199b61d",
   "metadata": {
    "scrolled": true
   },
   "outputs": [
    {
     "data": {
      "text/plain": [
       "index\n",
       "0    0.0\n",
       "1    0.0\n",
       "2    0.0\n",
       "3    0.0\n",
       "4    0.0\n",
       "Name: Q_AHU_H_671, dtype: float64"
      ]
     },
     "execution_count": 21,
     "metadata": {},
     "output_type": "execute_result"
    }
   ],
   "source": [
    "y['Q_AHU_H_671'].head()"
   ]
  },
  {
   "cell_type": "code",
   "execution_count": 22,
   "id": "9ddfaccc",
   "metadata": {},
   "outputs": [
    {
     "name": "stderr",
     "output_type": "stream",
     "text": [
      "/home/davidp/code/rcister01/modelo_energetico/modelo_energetico/csv_gen.py:81: PerformanceWarning: DataFrame is highly fragmented.  This is usually the result of calling `frame.insert` many times, which has poor performance.  Consider joining all columns at once using pd.concat(axis=1) instead.  To get a de-fragmented frame, use `newframe = frame.copy()`\n",
      "  new_dataframe[f'Q_{i}'] = np.zeros(dataframe.shape[0])\n"
     ]
    },
    {
     "data": {
      "text/html": [
       "<div>\n",
       "<style scoped>\n",
       "    .dataframe tbody tr th:only-of-type {\n",
       "        vertical-align: middle;\n",
       "    }\n",
       "\n",
       "    .dataframe tbody tr th {\n",
       "        vertical-align: top;\n",
       "    }\n",
       "\n",
       "    .dataframe thead th {\n",
       "        text-align: right;\n",
       "    }\n",
       "</style>\n",
       "<table border=\"1\" class=\"dataframe\">\n",
       "  <thead>\n",
       "    <tr style=\"text-align: right;\">\n",
       "      <th></th>\n",
       "      <th>Q_0</th>\n",
       "      <th>Q_1</th>\n",
       "      <th>Q_2</th>\n",
       "      <th>Q_3</th>\n",
       "      <th>Q_4</th>\n",
       "      <th>Q_5</th>\n",
       "      <th>Q_6</th>\n",
       "      <th>Q_7</th>\n",
       "      <th>Q_8</th>\n",
       "      <th>Q_9</th>\n",
       "      <th>...</th>\n",
       "      <th>Q_662</th>\n",
       "      <th>Q_663</th>\n",
       "      <th>Q_664</th>\n",
       "      <th>Q_665</th>\n",
       "      <th>Q_666</th>\n",
       "      <th>Q_667</th>\n",
       "      <th>Q_668</th>\n",
       "      <th>Q_669</th>\n",
       "      <th>Q_670</th>\n",
       "      <th>Q_671</th>\n",
       "    </tr>\n",
       "  </thead>\n",
       "  <tbody>\n",
       "    <tr>\n",
       "      <th>0</th>\n",
       "      <td>0.0</td>\n",
       "      <td>1.6818</td>\n",
       "      <td>1.6818</td>\n",
       "      <td>1.6818</td>\n",
       "      <td>1.6818</td>\n",
       "      <td>1.6818</td>\n",
       "      <td>1.6818</td>\n",
       "      <td>35.4240</td>\n",
       "      <td>38.7781</td>\n",
       "      <td>38.7781</td>\n",
       "      <td>...</td>\n",
       "      <td>88.8217</td>\n",
       "      <td>95.9126</td>\n",
       "      <td>102.8931</td>\n",
       "      <td>102.8037</td>\n",
       "      <td>48.4459</td>\n",
       "      <td>12.9279</td>\n",
       "      <td>1.6818</td>\n",
       "      <td>5.1005</td>\n",
       "      <td>11.4541</td>\n",
       "      <td>8.6840</td>\n",
       "    </tr>\n",
       "    <tr>\n",
       "      <th>1</th>\n",
       "      <td>0.0</td>\n",
       "      <td>2.9261</td>\n",
       "      <td>2.9261</td>\n",
       "      <td>2.9261</td>\n",
       "      <td>2.9261</td>\n",
       "      <td>2.9261</td>\n",
       "      <td>2.9261</td>\n",
       "      <td>44.8740</td>\n",
       "      <td>44.8740</td>\n",
       "      <td>44.8740</td>\n",
       "      <td>...</td>\n",
       "      <td>23.4454</td>\n",
       "      <td>21.4724</td>\n",
       "      <td>22.6562</td>\n",
       "      <td>23.8400</td>\n",
       "      <td>2.9261</td>\n",
       "      <td>2.9261</td>\n",
       "      <td>2.9261</td>\n",
       "      <td>2.9261</td>\n",
       "      <td>2.9261</td>\n",
       "      <td>2.9261</td>\n",
       "    </tr>\n",
       "    <tr>\n",
       "      <th>2</th>\n",
       "      <td>0.0</td>\n",
       "      <td>3.6095</td>\n",
       "      <td>3.6095</td>\n",
       "      <td>3.6095</td>\n",
       "      <td>3.6095</td>\n",
       "      <td>3.6095</td>\n",
       "      <td>3.6095</td>\n",
       "      <td>95.0924</td>\n",
       "      <td>92.1329</td>\n",
       "      <td>87.3977</td>\n",
       "      <td>...</td>\n",
       "      <td>78.1176</td>\n",
       "      <td>77.4426</td>\n",
       "      <td>79.1440</td>\n",
       "      <td>82.4168</td>\n",
       "      <td>84.3485</td>\n",
       "      <td>13.3174</td>\n",
       "      <td>3.6095</td>\n",
       "      <td>3.6095</td>\n",
       "      <td>3.6095</td>\n",
       "      <td>3.6095</td>\n",
       "    </tr>\n",
       "    <tr>\n",
       "      <th>3</th>\n",
       "      <td>0.0</td>\n",
       "      <td>7.2196</td>\n",
       "      <td>7.2196</td>\n",
       "      <td>7.2196</td>\n",
       "      <td>7.2196</td>\n",
       "      <td>7.2196</td>\n",
       "      <td>7.2196</td>\n",
       "      <td>50.6268</td>\n",
       "      <td>49.7390</td>\n",
       "      <td>48.2592</td>\n",
       "      <td>...</td>\n",
       "      <td>52.7971</td>\n",
       "      <td>52.4025</td>\n",
       "      <td>52.0079</td>\n",
       "      <td>52.4025</td>\n",
       "      <td>52.7971</td>\n",
       "      <td>7.2196</td>\n",
       "      <td>7.2196</td>\n",
       "      <td>7.2196</td>\n",
       "      <td>7.2196</td>\n",
       "      <td>7.2196</td>\n",
       "    </tr>\n",
       "    <tr>\n",
       "      <th>4</th>\n",
       "      <td>0.0</td>\n",
       "      <td>6.4811</td>\n",
       "      <td>6.4811</td>\n",
       "      <td>6.4811</td>\n",
       "      <td>6.4811</td>\n",
       "      <td>6.4811</td>\n",
       "      <td>6.4811</td>\n",
       "      <td>6.4811</td>\n",
       "      <td>6.4811</td>\n",
       "      <td>10.2298</td>\n",
       "      <td>...</td>\n",
       "      <td>70.2297</td>\n",
       "      <td>74.8921</td>\n",
       "      <td>78.2945</td>\n",
       "      <td>78.5638</td>\n",
       "      <td>6.4811</td>\n",
       "      <td>6.4811</td>\n",
       "      <td>13.5212</td>\n",
       "      <td>30.9471</td>\n",
       "      <td>25.7187</td>\n",
       "      <td>12.1803</td>\n",
       "    </tr>\n",
       "  </tbody>\n",
       "</table>\n",
       "<p>5 rows × 672 columns</p>\n",
       "</div>"
      ],
      "text/plain": [
       "   Q_0     Q_1     Q_2     Q_3     Q_4     Q_5     Q_6      Q_7      Q_8  \\\n",
       "0  0.0  1.6818  1.6818  1.6818  1.6818  1.6818  1.6818  35.4240  38.7781   \n",
       "1  0.0  2.9261  2.9261  2.9261  2.9261  2.9261  2.9261  44.8740  44.8740   \n",
       "2  0.0  3.6095  3.6095  3.6095  3.6095  3.6095  3.6095  95.0924  92.1329   \n",
       "3  0.0  7.2196  7.2196  7.2196  7.2196  7.2196  7.2196  50.6268  49.7390   \n",
       "4  0.0  6.4811  6.4811  6.4811  6.4811  6.4811  6.4811   6.4811   6.4811   \n",
       "\n",
       "       Q_9  ...    Q_662    Q_663     Q_664     Q_665    Q_666    Q_667  \\\n",
       "0  38.7781  ...  88.8217  95.9126  102.8931  102.8037  48.4459  12.9279   \n",
       "1  44.8740  ...  23.4454  21.4724   22.6562   23.8400   2.9261   2.9261   \n",
       "2  87.3977  ...  78.1176  77.4426   79.1440   82.4168  84.3485  13.3174   \n",
       "3  48.2592  ...  52.7971  52.4025   52.0079   52.4025  52.7971   7.2196   \n",
       "4  10.2298  ...  70.2297  74.8921   78.2945   78.5638   6.4811   6.4811   \n",
       "\n",
       "     Q_668    Q_669    Q_670    Q_671  \n",
       "0   1.6818   5.1005  11.4541   8.6840  \n",
       "1   2.9261   2.9261   2.9261   2.9261  \n",
       "2   3.6095   3.6095   3.6095   3.6095  \n",
       "3   7.2196   7.2196   7.2196   7.2196  \n",
       "4  13.5212  30.9471  25.7187  12.1803  \n",
       "\n",
       "[5 rows x 672 columns]"
      ]
     },
     "execution_count": 22,
     "metadata": {},
     "output_type": "execute_result"
    }
   ],
   "source": [
    "y = total_q_hour(y)\n",
    "y.head()"
   ]
  },
  {
   "cell_type": "markdown",
   "id": "7f45af13",
   "metadata": {},
   "source": [
    "### Reducimos los features"
   ]
  },
  {
   "cell_type": "code",
   "execution_count": null,
   "id": "b0cc28cd",
   "metadata": {},
   "outputs": [],
   "source": [
    "columns_s = [x[:-4] for x in X.columns if '671' in x]\n",
    "columns_s"
   ]
  },
  {
   "cell_type": "code",
   "execution_count": null,
   "id": "4923ff20",
   "metadata": {},
   "outputs": [],
   "source": [
    "X_red_1 = reduce_columns_period_avg(X, columns_s, 28)\n",
    "X_red_1.head()"
   ]
  },
  {
   "cell_type": "code",
   "execution_count": null,
   "id": "c2decaed",
   "metadata": {},
   "outputs": [],
   "source": [
    "X_red = reduce_columns_avg(X, columns_s, 3)\n",
    "X_red.head()"
   ]
  },
  {
   "cell_type": "code",
   "execution_count": null,
   "id": "53589fbb",
   "metadata": {
    "scrolled": true
   },
   "outputs": [],
   "source": [
    "columns_c = X.columns[0:19]\n",
    "columns_c"
   ]
  },
  {
   "cell_type": "code",
   "execution_count": null,
   "id": "95d5eb82",
   "metadata": {},
   "outputs": [],
   "source": [
    "columns_c = X.columns[0:16]"
   ]
  },
  {
   "cell_type": "code",
   "execution_count": null,
   "id": "3d1b95e8",
   "metadata": {
    "scrolled": true
   },
   "outputs": [],
   "source": [
    "unique_values = X[columns_c].nunique(dropna=False, )\n",
    "unique_values.sort_values(ascending=True)"
   ]
  },
  {
   "cell_type": "code",
   "execution_count": null,
   "id": "8c325f3b",
   "metadata": {},
   "outputs": [],
   "source": [
    "columns_c = unique_values.sort_values(ascending=True).keys()[1:]"
   ]
  },
  {
   "cell_type": "code",
   "execution_count": null,
   "id": "929c5342",
   "metadata": {},
   "outputs": [],
   "source": [
    "ordinal_encoder = OrdinalEncoder()\n",
    "ordinal_encoder.fit(X[columns_c])"
   ]
  },
  {
   "cell_type": "code",
   "execution_count": null,
   "id": "491d08c5",
   "metadata": {},
   "outputs": [],
   "source": [
    "X = pd.concat([X[columns_c], X_red], axis = 1)"
   ]
  },
  {
   "cell_type": "code",
   "execution_count": null,
   "id": "9943d3f3",
   "metadata": {},
   "outputs": [],
   "source": [
    "X.head()"
   ]
  },
  {
   "cell_type": "markdown",
   "id": "483bb47a",
   "metadata": {},
   "source": [
    "### Reducimos los targets"
   ]
  },
  {
   "cell_type": "code",
   "execution_count": null,
   "id": "cff32d2f",
   "metadata": {},
   "outputs": [],
   "source": [
    "columns_s = [x[:-4] for x in y.columns if '671' in x]\n",
    "columns_s"
   ]
  },
  {
   "cell_type": "code",
   "execution_count": null,
   "id": "f946ed04",
   "metadata": {
    "scrolled": true
   },
   "outputs": [],
   "source": [
    "y_red = reduce_columns_sum(y, ['Q_AC_OFFICE', 'Q_HEAT_OFFICE', 'Q_PEOPLE', 'Q_EQP', 'Q_LIGHT', 'Q_AHU_C', 'Q_AHU_H'], 1)\n",
    "y_red['Q_TOTAL'] = y_red.sum(axis = 1)\n",
    "y_red.head()"
   ]
  },
  {
   "cell_type": "code",
   "execution_count": null,
   "id": "0f937f67",
   "metadata": {},
   "outputs": [],
   "source": [
    "y_red_t = reduce_columns_avg(y, ['T_INT_OFFICE'], 1)\n",
    "y_red_t.head()"
   ]
  },
  {
   "cell_type": "code",
   "execution_count": null,
   "id": "ce737ee5",
   "metadata": {},
   "outputs": [],
   "source": [
    "y = pd.concat([y_red['Q_TOTAL'], y_red_t], axis = 1)\n",
    "y.head()"
   ]
  },
  {
   "cell_type": "markdown",
   "id": "46a02b27",
   "metadata": {},
   "source": [
    "### Corroboramos los nuevos shapes"
   ]
  },
  {
   "cell_type": "code",
   "execution_count": null,
   "id": "c7570d44",
   "metadata": {},
   "outputs": [],
   "source": [
    "print(X.shape)\n",
    "print(y.shape)"
   ]
  },
  {
   "cell_type": "markdown",
   "id": "c6e67fa7",
   "metadata": {},
   "source": [
    "## Spliteamos los datasets"
   ]
  },
  {
   "cell_type": "code",
   "execution_count": null,
   "id": "af8875c6",
   "metadata": {},
   "outputs": [],
   "source": [
    "X_train, X_test, y_train, y_test = train_test_split(X, y, test_size=0.3, random_state=42)"
   ]
  },
  {
   "cell_type": "code",
   "execution_count": null,
   "id": "49f21ff6",
   "metadata": {
    "scrolled": true
   },
   "outputs": [],
   "source": [
    "print(X_train.shape)\n",
    "print(y_train.shape)\n",
    "print(X_test.shape)\n",
    "print(y_test.shape)"
   ]
  },
  {
   "cell_type": "markdown",
   "id": "18c87c77",
   "metadata": {},
   "source": [
    "## Buscamos modelo óptimo para predecir temperatura y consumo"
   ]
  },
  {
   "cell_type": "markdown",
   "id": "dc42a79d",
   "metadata": {},
   "source": [
    "### Modelo para temperatura"
   ]
  },
  {
   "cell_type": "code",
   "execution_count": null,
   "id": "5b5bd771",
   "metadata": {},
   "outputs": [],
   "source": [
    "pipe = Pipeline([\n",
    "          (\"scaling\" , MultiScaler(scaler = \"RobustScaler\")),\n",
    "          (\"model\", SGDRegressor(max_iter=50000, early_stopping=True, n_iter_no_change=3, tol=1e-3))\n",
    "])"
   ]
  },
  {
   "cell_type": "code",
   "execution_count": null,
   "id": "0484c29b",
   "metadata": {},
   "outputs": [],
   "source": [
    "for i in pipe.get_params().keys():\n",
    "    print(i)"
   ]
  },
  {
   "cell_type": "code",
   "execution_count": null,
   "id": "1ebb979b",
   "metadata": {
    "scrolled": true
   },
   "outputs": [],
   "source": [
    "X_train_t = X_train\n",
    "y_train_t = y_train\n",
    "\n",
    "params = {\n",
    "    'scaling__scaler' : [StandardScaler(), RobustScaler(), MinMaxScaler() ],     \n",
    "    'model__loss': ['huber', 'epsilon_insensitive', 'squared_epsilon_insensitive'],\n",
    "    'model__alpha': [1, 0.1, 0.01, 0.001, 0.0001],\n",
    "    'model__l1_ratio': [1, 0.1, 0.01, 0.001, 0.0001],\n",
    "}\n",
    "\n",
    "grid = GridSearchCV(pipe, \n",
    "                    param_grid= params, \n",
    "                    cv=10,\n",
    "                    n_jobs=-1,\n",
    "                    verbose=1,\n",
    "                    scoring = 'r2'\n",
    "                   )\n",
    "\n",
    "grid.fit(X_train_t,y_train_t['T_INT_OFFICE_0'])"
   ]
  },
  {
   "cell_type": "code",
   "execution_count": null,
   "id": "693c28e6",
   "metadata": {},
   "outputs": [],
   "source": [
    "best_model = grid.best_estimator_\n",
    "best_model"
   ]
  },
  {
   "cell_type": "markdown",
   "id": "4d3b8990",
   "metadata": {},
   "source": [
    "### Buscamos los parámetros negativos para el score de temperatura"
   ]
  },
  {
   "cell_type": "code",
   "execution_count": null,
   "id": "1cbce16a",
   "metadata": {},
   "outputs": [],
   "source": [
    "best_model.fit(X_train_t,y_train_t['T_INT_OFFICE_0']) \n",
    "\n",
    "permutation_score = permutation_importance(best_model, X_train_t, y_train_t['T_INT_OFFICE_0'], n_repeats=10) \n",
    "\n",
    "importance_df = pd.DataFrame(np.vstack((X.columns, permutation_score.importances_mean)).T ) \n",
    "importance_df.columns=['feature','score decrease']"
   ]
  },
  {
   "cell_type": "code",
   "execution_count": null,
   "id": "8f9c2a6e",
   "metadata": {},
   "outputs": [],
   "source": [
    "importance_df = importance_df[importance_df['score decrease'] < 0]\n",
    "importance_df.sort_values(by=\"score decrease\", ascending = True)"
   ]
  },
  {
   "cell_type": "code",
   "execution_count": null,
   "id": "513bdd90",
   "metadata": {},
   "outputs": [],
   "source": [
    "neg_score_t = importance_df['feature']\n",
    "neg_score_t"
   ]
  },
  {
   "cell_type": "markdown",
   "id": "e0105a82",
   "metadata": {},
   "source": [
    "### Modelo para consumo"
   ]
  },
  {
   "cell_type": "code",
   "execution_count": null,
   "id": "c88292a3",
   "metadata": {},
   "outputs": [],
   "source": [
    "X_train_q = X_train\n",
    "y_train_q = y_train\n",
    "\n",
    "params = {\n",
    "    'scaling__scaler' : [StandardScaler(), RobustScaler(), MinMaxScaler() ],     \n",
    "    'model__loss': ['huber', 'epsilon_insensitive', 'squared_epsilon_insensitive'],\n",
    "    'model__alpha': [1, 0.1, 0.01, 0.001, 0.0001],\n",
    "    'model__l1_ratio': [1, 0.1, 0.01, 0.001, 0.0001],\n",
    "}\n",
    "\n",
    "grid = GridSearchCV(pipe, \n",
    "                    param_grid= params, \n",
    "                    cv=10,\n",
    "                    n_jobs=-1,\n",
    "                    verbose=1,\n",
    "                    scoring = 'r2'\n",
    "                   )\n",
    "\n",
    "grid.fit(X_train_q,y_train_q['Q_TOTAL'])"
   ]
  },
  {
   "cell_type": "code",
   "execution_count": null,
   "id": "da276c79",
   "metadata": {},
   "outputs": [],
   "source": [
    "best_model = grid.best_estimator_\n",
    "best_model"
   ]
  },
  {
   "cell_type": "markdown",
   "id": "e063e35a",
   "metadata": {},
   "source": [
    "### Buscamos los parámetros negativos para el score de consumo"
   ]
  },
  {
   "cell_type": "code",
   "execution_count": null,
   "id": "e0cab351",
   "metadata": {},
   "outputs": [],
   "source": [
    "best_model.fit(X_train_q,y_train_q['Q_TOTAL']) \n",
    "\n",
    "permutation_score = permutation_importance(best_model, X_train_q, y_train_q['Q_TOTAL'], n_repeats=10) \n",
    "\n",
    "importance_df = pd.DataFrame(np.vstack((X.columns, permutation_score.importances_mean)).T ) \n",
    "importance_df.columns=['feature','score decrease']"
   ]
  },
  {
   "cell_type": "code",
   "execution_count": null,
   "id": "6601fc0d",
   "metadata": {},
   "outputs": [],
   "source": [
    "importance_df = importance_df[importance_df['score decrease'] < 0]\n",
    "importance_df.sort_values(by=\"score decrease\", ascending = True)"
   ]
  },
  {
   "cell_type": "code",
   "execution_count": null,
   "id": "5e342d24",
   "metadata": {},
   "outputs": [],
   "source": [
    "neg_score_t = importance_df['feature']\n",
    "neg_score_t"
   ]
  },
  {
   "cell_type": "code",
   "execution_count": null,
   "id": "a825e1d6",
   "metadata": {},
   "outputs": [],
   "source": []
  }
 ],
 "metadata": {
  "kernelspec": {
   "display_name": "Python 3 (ipykernel)",
   "language": "python",
   "name": "python3"
  },
  "language_info": {
   "codemirror_mode": {
    "name": "ipython",
    "version": 3
   },
   "file_extension": ".py",
   "mimetype": "text/x-python",
   "name": "python",
   "nbconvert_exporter": "python",
   "pygments_lexer": "ipython3",
   "version": "3.8.6"
  },
  "toc": {
   "base_numbering": 1,
   "nav_menu": {},
   "number_sections": true,
   "sideBar": true,
   "skip_h1_title": false,
   "title_cell": "Table of Contents",
   "title_sidebar": "Contents",
   "toc_cell": false,
   "toc_position": {},
   "toc_section_display": true,
   "toc_window_display": false
  }
 },
 "nbformat": 4,
 "nbformat_minor": 5
}
