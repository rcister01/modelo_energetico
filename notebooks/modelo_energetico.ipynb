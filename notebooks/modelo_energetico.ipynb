{
 "cells": [
  {
   "cell_type": "markdown",
   "id": "b95ebb26",
   "metadata": {},
   "source": [
    "## Importamos las librerías"
   ]
  },
  {
   "cell_type": "code",
   "execution_count": 1,
   "id": "1ac92f5d",
   "metadata": {},
   "outputs": [
    {
     "name": "stderr",
     "output_type": "stream",
     "text": [
      "2021-10-17 07:44:56.064166: W tensorflow/stream_executor/platform/default/dso_loader.cc:64] Could not load dynamic library 'libcudart.so.11.0'; dlerror: libcudart.so.11.0: cannot open shared object file: No such file or directory\n",
      "2021-10-17 07:44:56.064222: I tensorflow/stream_executor/cuda/cudart_stub.cc:29] Ignore above cudart dlerror if you do not have a GPU set up on your machine.\n"
     ]
    }
   ],
   "source": [
    "import pandas as pd\n",
    "import numpy as np\n",
    "from datetime import datetime\n",
    "from modelo_energetico.col_reductor import reduce_columns_sum, reduce_columns_avg, reduce_columns_period_sum, reduce_columns_period_avg, total_q_hour \n",
    "from modelo_energetico.nn_gen import init_vanilla_nn\n",
    "from modelo_energetico.scaler import MultiScaler\n",
    "from sklearn.model_selection import train_test_split\n",
    "from sklearn.preprocessing import StandardScaler, RobustScaler, MinMaxScaler\n",
    "from sklearn.pipeline import Pipeline\n",
    "from sklearn.linear_model import SGDRegressor\n",
    "from sklearn.model_selection import GridSearchCV\n",
    "from sklearn.multioutput import MultiOutputRegressor\n",
    "from tensorflow.keras.wrappers.scikit_learn import KerasRegressor\n",
    "from tensorflow.keras.callbacks import EarlyStopping"
   ]
  },
  {
   "cell_type": "markdown",
   "id": "0215e969",
   "metadata": {},
   "source": [
    "## Cargamos los datasets"
   ]
  },
  {
   "cell_type": "code",
   "execution_count": 2,
   "id": "9b0be5ab",
   "metadata": {},
   "outputs": [
    {
     "name": "stdout",
     "output_type": "stream",
     "text": [
      "(7500, 12115)\n",
      "(7500, 5376)\n"
     ]
    }
   ],
   "source": [
    "X = pd.read_csv('../raw_data/X.csv', index_col = 0)\n",
    "y = pd.read_csv('../raw_data/y.csv', index_col = 0)\n",
    "\n",
    "print(X.shape)\n",
    "print(y.shape)"
   ]
  },
  {
   "cell_type": "code",
   "execution_count": null,
   "id": "9b1a8390",
   "metadata": {},
   "outputs": [],
   "source": [
    "y.columns"
   ]
  },
  {
   "cell_type": "code",
   "execution_count": null,
   "id": "3dca5c3b",
   "metadata": {},
   "outputs": [],
   "source": [
    "cols_t = y.iloc[: , -672:]\n",
    "X = pd.concat([X, cols_t], axis = 1)\n",
    "y = y.iloc[: , :-672]"
   ]
  },
  {
   "cell_type": "markdown",
   "id": "7f45af13",
   "metadata": {},
   "source": [
    "## Vemos que features son series"
   ]
  },
  {
   "cell_type": "code",
   "execution_count": null,
   "id": "b0cc28cd",
   "metadata": {},
   "outputs": [],
   "source": [
    "columns_s = [x[:-4] for x in X.columns if '671' in x]\n",
    "columns_s"
   ]
  },
  {
   "cell_type": "markdown",
   "id": "483bb47a",
   "metadata": {},
   "source": [
    "## Armamos datasets reducidos"
   ]
  },
  {
   "cell_type": "code",
   "execution_count": null,
   "id": "ebc9132e",
   "metadata": {},
   "outputs": [],
   "source": [
    "columns_c = X.columns[0:19]\n",
    "columns_c"
   ]
  },
  {
   "cell_type": "code",
   "execution_count": null,
   "id": "c8f76cd2",
   "metadata": {},
   "outputs": [],
   "source": [
    "columns_c = X.columns[0:16]"
   ]
  },
  {
   "cell_type": "code",
   "execution_count": null,
   "id": "54464d42",
   "metadata": {},
   "outputs": [],
   "source": [
    "y = total_q_hour(y)\n",
    "y.head()"
   ]
  },
  {
   "cell_type": "code",
   "execution_count": null,
   "id": "d449c574",
   "metadata": {},
   "outputs": [],
   "source": [
    "X_reduced = {}\n",
    "y_reduced = {}\n",
    "for div in [1, 2, 4, 7, 14, 28]:\n",
    "    X_reduced[div] = pd.concat([X[columns_c], reduce_columns_period_avg(X, columns_s, div)], axis = 1)\n",
    "    y_reduced[div] = reduce_columns_period_sum(y, ['Q'], div)"
   ]
  },
  {
   "cell_type": "code",
   "execution_count": null,
   "id": "6a829ae7",
   "metadata": {},
   "outputs": [],
   "source": [
    "X_reduced[28].head()"
   ]
  },
  {
   "cell_type": "code",
   "execution_count": null,
   "id": "c39b1d4a",
   "metadata": {},
   "outputs": [],
   "source": [
    "y_reduced[28].head()"
   ]
  },
  {
   "cell_type": "markdown",
   "id": "46a02b27",
   "metadata": {},
   "source": [
    "## Probamos SGD con distintos períodos"
   ]
  },
  {
   "cell_type": "code",
   "execution_count": null,
   "id": "c265347b",
   "metadata": {},
   "outputs": [],
   "source": [
    "pipe = Pipeline([\n",
    "          (\"scaling\" , MultiScaler(scaler = \"RobustScaler\")),\n",
    "        (\"model\", MultiOutputRegressor(estimator = SGDRegressor()))\n",
    "])"
   ]
  },
  {
   "cell_type": "code",
   "execution_count": null,
   "id": "ed511ec1",
   "metadata": {},
   "outputs": [],
   "source": [
    "for i in pipe.get_params().keys():\n",
    "    print(i)"
   ]
  },
  {
   "cell_type": "code",
   "execution_count": null,
   "id": "45cdf7e0",
   "metadata": {},
   "outputs": [],
   "source": [
    "params = {\n",
    "    'scaling__scaler' : [StandardScaler(), RobustScaler(), MinMaxScaler() ],     \n",
    "    'model__estimator__loss': ['huber', 'epsilon_insensitive', 'squared_epsilon_insensitive'],\n",
    "    'model__estimator__alpha': [1, 0.1, 0.01, 0.001, 0.0001],\n",
    "    'model__estimator__l1_ratio': [1, 0.1, 0.01, 0.001, 0.0001],\n",
    "}\n",
    "\n",
    "grid = GridSearchCV(pipe, \n",
    "                    param_grid= params, \n",
    "                    cv=5,\n",
    "                    n_jobs=-1,\n",
    "                    verbose=1,\n",
    "                    scoring = 'r2'\n",
    "                   )"
   ]
  },
  {
   "cell_type": "code",
   "execution_count": null,
   "id": "79a52a0d",
   "metadata": {},
   "outputs": [],
   "source": [
    "models = {}\n",
    "results = {}\n",
    "X_reduced_train = {}\n",
    "X_reduced_test = {}\n",
    "y_reduced_train = {}\n",
    "y_reduced_test = {}"
   ]
  },
  {
   "cell_type": "code",
   "execution_count": null,
   "id": "6715b2fb",
   "metadata": {},
   "outputs": [],
   "source": [
    "for div in [7, 14, 28]:\n",
    "    X_reduced_train[div], X_reduced_test[div], y_reduced_train[div], y_reduced_test[div] = train_test_split(\n",
    "        X_reduced[div], y_reduced[div], test_size=0.3, random_state=42)"
   ]
  },
  {
   "cell_type": "code",
   "execution_count": null,
   "id": "8183c1d8",
   "metadata": {},
   "outputs": [],
   "source": [
    "for div in [7, 14, 28]:\n",
    "    grid.fit(X_reduced_train[div], y_reduced_train[div])\n",
    "    \n",
    "    start = datetime.now()\n",
    "    best_estimator = grid.best_estimator_.fit(X_reduced_train[div], y_reduced_train[div])\n",
    "    stop = datetime.now()\n",
    "    best_score = best_estimator.score(X_reduced_test[div], y_reduced_test[div])\n",
    "    time = (stop - start).seconds\n",
    "  \n",
    "    models[div] = best_estimator\n",
    "    results[div] = (best_score, time)"
   ]
  },
  {
   "cell_type": "code",
   "execution_count": null,
   "id": "16997e8e",
   "metadata": {},
   "outputs": [],
   "source": [
    "results"
   ]
  },
  {
   "cell_type": "code",
   "execution_count": null,
   "id": "39b94e5f",
   "metadata": {},
   "outputs": [],
   "source": [
    "models[7].named_steps.scaling"
   ]
  },
  {
   "cell_type": "code",
   "execution_count": null,
   "id": "1c2a3969",
   "metadata": {},
   "outputs": [],
   "source": [
    "models[7].named_steps.model.estimator"
   ]
  },
  {
   "cell_type": "markdown",
   "id": "c6e67fa7",
   "metadata": {},
   "source": [
    "## Probamos redes neuronales"
   ]
  },
  {
   "cell_type": "code",
   "execution_count": null,
   "id": "d9fabe3b",
   "metadata": {},
   "outputs": [],
   "source": [
    "nn_models = {}\n",
    "nn_results = {}\n",
    "nn_histories = {}\n",
    "\n",
    "networks = [(10, 10, 5), (15, 10, 10, 5)] ## Probar distintas combinaciones\n",
    "batch_size = [60, 80, 100] ## Probar distintas combinaciones\n",
    "epochs = [10, 20] ## Probar distintas combinaciones\n",
    "param_grid = dict(batch_size=batch_size, epochs=epochs)\n",
    "\n",
    "es = EarlyStopping(patience=25, restore_best_weights=True)\n",
    "\n",
    "for div in [7, 14, 28]:   \n",
    "    input_dim = X_reduced_train[div].shape[1]\n",
    "    output_dim = y_reduced_train[div].shape[1]\n",
    "\n",
    "    for i, network in enumerate(networks):\n",
    "    \n",
    "    grid = GridSearchCV(estimator=KerasRegressor(build_fn=init_vanilla_nn, \n",
    "                                                 n_neurons=network,  \n",
    "                                                 input_dim=input_dim, \n",
    "                                                 output_dim=output_dim), \n",
    "                        param_grid=param_grid, n_jobs=-1, cv=3)\n",
    "    \n",
    "    grid.fit(X_reduced_train[div], y_reduced_train[div], verbose=1)\n",
    "    \n",
    "    best_model = grid.best_estimator_\n",
    "\n",
    "    start = datetime.now()\n",
    "    hist = best_model.fit(X_reduced_train[div], y_reduced_train[div])\n",
    "    stop = datetime.now()\n",
    "    time = (stop - start).seconds\n",
    "    best_score = max(hist.history['mae'])\n",
    "\n",
    "    nn_results[(div, i)] = (best_score, time)\n",
    "    nn_histories[(div, i)] = hist"
   ]
  },
  {
   "cell_type": "code",
   "execution_count": null,
   "id": "a862a3ed",
   "metadata": {},
   "outputs": [],
   "source": [
    "nn_results[(14, 1)]"
   ]
  }
 ],
 "metadata": {
  "kernelspec": {
   "display_name": "Python 3 (ipykernel)",
   "language": "python",
   "name": "python3"
  },
  "language_info": {
   "codemirror_mode": {
    "name": "ipython",
    "version": 3
   },
   "file_extension": ".py",
   "mimetype": "text/x-python",
   "name": "python",
   "nbconvert_exporter": "python",
   "pygments_lexer": "ipython3",
   "version": "3.8.6"
  },
  "toc": {
   "base_numbering": 1,
   "nav_menu": {},
   "number_sections": true,
   "sideBar": true,
   "skip_h1_title": false,
   "title_cell": "Table of Contents",
   "title_sidebar": "Contents",
   "toc_cell": false,
   "toc_position": {},
   "toc_section_display": true,
   "toc_window_display": false
  }
 },
 "nbformat": 4,
 "nbformat_minor": 5
}
