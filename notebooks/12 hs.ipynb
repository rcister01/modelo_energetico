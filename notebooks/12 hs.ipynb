{
 "cells": [
  {
   "cell_type": "markdown",
   "id": "4bc5f0f1",
   "metadata": {},
   "source": [
    "# IMPORTAR LIBRERIAS"
   ]
  },
  {
   "cell_type": "code",
   "execution_count": 1,
   "id": "85010413",
   "metadata": {},
   "outputs": [],
   "source": [
    "def reduce_columns_period_sum(dataframe, columns, period_days):\n",
    "    if 672 % (period_days*24) == 0:\n",
    "        divition_length = period_days*24\n",
    "        new_dataframe = pd.DataFrame()\n",
    "\n",
    "        for column in columns:\n",
    "            for i in range(int(672/divition_length)):\n",
    "                new_dataframe[f'{column}_{i}'] = np.zeros(dataframe.shape[0])\n",
    "                div_start = int(i * divition_length)\n",
    "                for j in range(div_start, div_start + divition_length):\n",
    "                    new_dataframe[f'{column}_{i}'] = new_dataframe[f'{column}_{i}'] + dataframe[f'{column}_{j}']\n",
    "\n",
    "        return new_dataframe\n",
    "\n",
    "    else:\n",
    "        raise ValueError('28 días debe ser divisible por el período')\n",
    "\n",
    "\n",
    "def reduce_columns_period_avg(dataframe, columns, period_days):\n",
    "    if 672 % (period_days * 24) == 0:\n",
    "        divition_length = period_days * 24\n",
    "        print(divition_length)\n",
    "        new_dataframe = pd.DataFrame()\n",
    "\n",
    "        for column in columns:\n",
    "            for i in range(int(672 / divition_length)):\n",
    "                new_dataframe[f'{column}_{i}'] = np.zeros(dataframe.shape[0])\n",
    "                div_start = int(i * divition_length)\n",
    "                for j in range(div_start, div_start + divition_length):\n",
    "                    new_dataframe[f'{column}_{i}'] = new_dataframe[\n",
    "                        f'{column}_{i}'] + dataframe[f'{column}_{j}'] / (672 / divition_length)\n",
    "\n",
    "        return new_dataframe\n",
    "\n",
    "    else:\n",
    "        raise ValueError('28 días debe ser divisible por el período')"
   ]
  },
  {
   "cell_type": "code",
   "execution_count": 2,
   "id": "22c8caf6",
   "metadata": {},
   "outputs": [
    {
     "name": "stdout",
     "output_type": "stream",
     "text": [
      "Requirement already satisfied: tensorflow in /home/rociocisterna/.pyenv/versions/3.8.12/envs/modelo_energetico/lib/python3.8/site-packages (2.6.0)\n",
      "Requirement already satisfied: termcolor~=1.1.0 in /home/rociocisterna/.pyenv/versions/3.8.12/envs/modelo_energetico/lib/python3.8/site-packages (from tensorflow) (1.1.0)\n",
      "Requirement already satisfied: gast==0.4.0 in /home/rociocisterna/.pyenv/versions/3.8.12/envs/modelo_energetico/lib/python3.8/site-packages (from tensorflow) (0.4.0)\n",
      "Requirement already satisfied: typing-extensions~=3.7.4 in /home/rociocisterna/.pyenv/versions/3.8.12/envs/modelo_energetico/lib/python3.8/site-packages (from tensorflow) (3.7.4.3)\n",
      "Requirement already satisfied: google-pasta~=0.2 in /home/rociocisterna/.pyenv/versions/3.8.12/envs/modelo_energetico/lib/python3.8/site-packages (from tensorflow) (0.2.0)\n",
      "Requirement already satisfied: wheel~=0.35 in /home/rociocisterna/.pyenv/versions/3.8.12/envs/modelo_energetico/lib/python3.8/site-packages (from tensorflow) (0.37.0)\n",
      "Requirement already satisfied: tensorflow-estimator~=2.6 in /home/rociocisterna/.pyenv/versions/3.8.12/envs/modelo_energetico/lib/python3.8/site-packages (from tensorflow) (2.6.0)\n",
      "Requirement already satisfied: grpcio<2.0,>=1.37.0 in /home/rociocisterna/.pyenv/versions/3.8.12/envs/modelo_energetico/lib/python3.8/site-packages (from tensorflow) (1.41.0)\n",
      "Requirement already satisfied: keras-preprocessing~=1.1.2 in /home/rociocisterna/.pyenv/versions/3.8.12/envs/modelo_energetico/lib/python3.8/site-packages (from tensorflow) (1.1.2)\n",
      "Requirement already satisfied: protobuf>=3.9.2 in /home/rociocisterna/.pyenv/versions/3.8.12/envs/modelo_energetico/lib/python3.8/site-packages (from tensorflow) (3.18.1)\n",
      "Requirement already satisfied: six~=1.15.0 in /home/rociocisterna/.pyenv/versions/3.8.12/envs/modelo_energetico/lib/python3.8/site-packages (from tensorflow) (1.15.0)\n",
      "Requirement already satisfied: numpy~=1.19.2 in /home/rociocisterna/.pyenv/versions/3.8.12/envs/modelo_energetico/lib/python3.8/site-packages (from tensorflow) (1.19.5)\n",
      "Requirement already satisfied: absl-py~=0.10 in /home/rociocisterna/.pyenv/versions/3.8.12/envs/modelo_energetico/lib/python3.8/site-packages (from tensorflow) (0.14.1)\n",
      "Requirement already satisfied: h5py~=3.1.0 in /home/rociocisterna/.pyenv/versions/3.8.12/envs/modelo_energetico/lib/python3.8/site-packages (from tensorflow) (3.1.0)\n",
      "Requirement already satisfied: wrapt~=1.12.1 in /home/rociocisterna/.pyenv/versions/3.8.12/envs/modelo_energetico/lib/python3.8/site-packages (from tensorflow) (1.12.1)\n",
      "Requirement already satisfied: flatbuffers~=1.12.0 in /home/rociocisterna/.pyenv/versions/3.8.12/envs/modelo_energetico/lib/python3.8/site-packages (from tensorflow) (1.12)\n",
      "Requirement already satisfied: tensorboard~=2.6 in /home/rociocisterna/.pyenv/versions/3.8.12/envs/modelo_energetico/lib/python3.8/site-packages (from tensorflow) (2.7.0)\n",
      "Requirement already satisfied: keras~=2.6 in /home/rociocisterna/.pyenv/versions/3.8.12/envs/modelo_energetico/lib/python3.8/site-packages (from tensorflow) (2.6.0)\n",
      "Requirement already satisfied: opt-einsum~=3.3.0 in /home/rociocisterna/.pyenv/versions/3.8.12/envs/modelo_energetico/lib/python3.8/site-packages (from tensorflow) (3.3.0)\n",
      "Requirement already satisfied: astunparse~=1.6.3 in /home/rociocisterna/.pyenv/versions/3.8.12/envs/modelo_energetico/lib/python3.8/site-packages (from tensorflow) (1.6.3)\n",
      "Requirement already satisfied: clang~=5.0 in /home/rociocisterna/.pyenv/versions/3.8.12/envs/modelo_energetico/lib/python3.8/site-packages (from tensorflow) (5.0)\n",
      "Requirement already satisfied: werkzeug>=0.11.15 in /home/rociocisterna/.pyenv/versions/3.8.12/envs/modelo_energetico/lib/python3.8/site-packages (from tensorboard~=2.6->tensorflow) (2.0.2)\n",
      "Requirement already satisfied: tensorboard-data-server<0.7.0,>=0.6.0 in /home/rociocisterna/.pyenv/versions/3.8.12/envs/modelo_energetico/lib/python3.8/site-packages (from tensorboard~=2.6->tensorflow) (0.6.1)\n",
      "Requirement already satisfied: google-auth<3,>=1.6.3 in /home/rociocisterna/.pyenv/versions/3.8.12/envs/modelo_energetico/lib/python3.8/site-packages (from tensorboard~=2.6->tensorflow) (2.3.0)\n",
      "Requirement already satisfied: tensorboard-plugin-wit>=1.6.0 in /home/rociocisterna/.pyenv/versions/3.8.12/envs/modelo_energetico/lib/python3.8/site-packages (from tensorboard~=2.6->tensorflow) (1.8.0)\n",
      "Requirement already satisfied: requests<3,>=2.21.0 in /home/rociocisterna/.pyenv/versions/3.8.12/envs/modelo_energetico/lib/python3.8/site-packages (from tensorboard~=2.6->tensorflow) (2.26.0)\n",
      "Requirement already satisfied: markdown>=2.6.8 in /home/rociocisterna/.pyenv/versions/3.8.12/envs/modelo_energetico/lib/python3.8/site-packages (from tensorboard~=2.6->tensorflow) (3.3.4)\n",
      "Requirement already satisfied: google-auth-oauthlib<0.5,>=0.4.1 in /home/rociocisterna/.pyenv/versions/3.8.12/envs/modelo_energetico/lib/python3.8/site-packages (from tensorboard~=2.6->tensorflow) (0.4.6)\n",
      "Requirement already satisfied: setuptools>=41.0.0 in /home/rociocisterna/.pyenv/versions/3.8.12/envs/modelo_energetico/lib/python3.8/site-packages (from tensorboard~=2.6->tensorflow) (56.0.0)\n",
      "Requirement already satisfied: cachetools<5.0,>=2.0.0 in /home/rociocisterna/.pyenv/versions/3.8.12/envs/modelo_energetico/lib/python3.8/site-packages (from google-auth<3,>=1.6.3->tensorboard~=2.6->tensorflow) (4.2.4)\n",
      "Requirement already satisfied: rsa<5,>=3.1.4 in /home/rociocisterna/.pyenv/versions/3.8.12/envs/modelo_energetico/lib/python3.8/site-packages (from google-auth<3,>=1.6.3->tensorboard~=2.6->tensorflow) (4.7.2)\n",
      "Requirement already satisfied: pyasn1-modules>=0.2.1 in /home/rociocisterna/.pyenv/versions/3.8.12/envs/modelo_energetico/lib/python3.8/site-packages (from google-auth<3,>=1.6.3->tensorboard~=2.6->tensorflow) (0.2.8)\n",
      "Requirement already satisfied: requests-oauthlib>=0.7.0 in /home/rociocisterna/.pyenv/versions/3.8.12/envs/modelo_energetico/lib/python3.8/site-packages (from google-auth-oauthlib<0.5,>=0.4.1->tensorboard~=2.6->tensorflow) (1.3.0)\n",
      "Requirement already satisfied: urllib3<1.27,>=1.21.1 in /home/rociocisterna/.pyenv/versions/3.8.12/envs/modelo_energetico/lib/python3.8/site-packages (from requests<3,>=2.21.0->tensorboard~=2.6->tensorflow) (1.26.7)\n",
      "Requirement already satisfied: charset-normalizer~=2.0.0 in /home/rociocisterna/.pyenv/versions/3.8.12/envs/modelo_energetico/lib/python3.8/site-packages (from requests<3,>=2.21.0->tensorboard~=2.6->tensorflow) (2.0.6)\n",
      "Requirement already satisfied: certifi>=2017.4.17 in /home/rociocisterna/.pyenv/versions/3.8.12/envs/modelo_energetico/lib/python3.8/site-packages (from requests<3,>=2.21.0->tensorboard~=2.6->tensorflow) (2021.10.8)\n",
      "Requirement already satisfied: idna<4,>=2.5 in /home/rociocisterna/.pyenv/versions/3.8.12/envs/modelo_energetico/lib/python3.8/site-packages (from requests<3,>=2.21.0->tensorboard~=2.6->tensorflow) (3.2)\n",
      "Requirement already satisfied: pyasn1<0.5.0,>=0.4.6 in /home/rociocisterna/.pyenv/versions/3.8.12/envs/modelo_energetico/lib/python3.8/site-packages (from pyasn1-modules>=0.2.1->google-auth<3,>=1.6.3->tensorboard~=2.6->tensorflow) (0.4.8)\n",
      "Requirement already satisfied: oauthlib>=3.0.0 in /home/rociocisterna/.pyenv/versions/3.8.12/envs/modelo_energetico/lib/python3.8/site-packages (from requests-oauthlib>=0.7.0->google-auth-oauthlib<0.5,>=0.4.1->tensorboard~=2.6->tensorflow) (3.1.1)\n"
     ]
    }
   ],
   "source": [
    "!pip install tensorflow"
   ]
  },
  {
   "cell_type": "code",
   "execution_count": 3,
   "id": "465cbfea",
   "metadata": {},
   "outputs": [],
   "source": [
    "import pandas as pd"
   ]
  },
  {
   "cell_type": "code",
   "execution_count": 4,
   "id": "ac3ea1c3",
   "metadata": {},
   "outputs": [],
   "source": [
    "from sklearn.model_selection import train_test_split\n",
    "\n",
    "X = pd.read_csv('../raw_data/X.csv', index_col = 0)\n",
    "y = pd.read_csv('../raw_data/y.csv', index_col = 0)\n",
    "\n"
   ]
  },
  {
   "cell_type": "code",
   "execution_count": 5,
   "id": "735804cf",
   "metadata": {},
   "outputs": [
    {
     "name": "stdout",
     "output_type": "stream",
     "text": [
      "(7500, 12115)\n",
      "(7500, 5376)\n"
     ]
    }
   ],
   "source": [
    "print(X.shape)\n",
    "print(y.shape)"
   ]
  },
  {
   "cell_type": "code",
   "execution_count": 6,
   "id": "b3cded80",
   "metadata": {},
   "outputs": [],
   "source": [
    "cols_t = y.iloc[: , -672:]\n",
    "X = pd.concat([X, cols_t], axis = 1)\n",
    "y = y.iloc[: , :-672]"
   ]
  },
  {
   "cell_type": "code",
   "execution_count": 7,
   "id": "e9bfb3f5",
   "metadata": {},
   "outputs": [
    {
     "data": {
      "text/plain": [
       "(7500, 12787)"
      ]
     },
     "execution_count": 7,
     "metadata": {},
     "output_type": "execute_result"
    }
   ],
   "source": [
    "X.shape"
   ]
  },
  {
   "cell_type": "code",
   "execution_count": 8,
   "id": "4241ba3d",
   "metadata": {},
   "outputs": [
    {
     "data": {
      "text/plain": [
       "(7500, 4704)"
      ]
     },
     "execution_count": 8,
     "metadata": {},
     "output_type": "execute_result"
    }
   ],
   "source": [
    "y.shape"
   ]
  },
  {
   "cell_type": "code",
   "execution_count": 9,
   "id": "37ddc32c",
   "metadata": {},
   "outputs": [
    {
     "data": {
      "text/plain": [
       "['ac_t_conf',\n",
       " 'ac_t_red',\n",
       " 'ac_mask',\n",
       " 'heat_t_conf',\n",
       " 'heat_t_red',\n",
       " 'heat_mask',\n",
       " 'ventilation_t',\n",
       " 'ventilation_vol',\n",
       " 'ventilation_mask',\n",
       " 'occupancy',\n",
       " 'pc_on_mask',\n",
       " 'DNI',\n",
       " 'IBEAM_H',\n",
       " 'IBEAM_N',\n",
       " 'IDIFF_H',\n",
       " 'IGLOB_H',\n",
       " 'RHUM',\n",
       " 'TAMB',\n",
       " 'T_INT_OFFICE']"
      ]
     },
     "execution_count": 9,
     "metadata": {},
     "output_type": "execute_result"
    }
   ],
   "source": [
    "columns_s = [x[:-4] for x in X.columns if '671' in x]\n",
    "columns_s"
   ]
  },
  {
   "cell_type": "code",
   "execution_count": 10,
   "id": "279672fc",
   "metadata": {},
   "outputs": [],
   "source": [
    "import numpy as np"
   ]
  },
  {
   "cell_type": "code",
   "execution_count": 11,
   "id": "1bfb1499",
   "metadata": {},
   "outputs": [
    {
     "name": "stdout",
     "output_type": "stream",
     "text": [
      "672\n"
     ]
    },
    {
     "data": {
      "text/html": [
       "<div>\n",
       "<style scoped>\n",
       "    .dataframe tbody tr th:only-of-type {\n",
       "        vertical-align: middle;\n",
       "    }\n",
       "\n",
       "    .dataframe tbody tr th {\n",
       "        vertical-align: top;\n",
       "    }\n",
       "\n",
       "    .dataframe thead th {\n",
       "        text-align: right;\n",
       "    }\n",
       "</style>\n",
       "<table border=\"1\" class=\"dataframe\">\n",
       "  <thead>\n",
       "    <tr style=\"text-align: right;\">\n",
       "      <th></th>\n",
       "      <th>ac_t_conf_0</th>\n",
       "      <th>ac_t_red_0</th>\n",
       "      <th>ac_mask_0</th>\n",
       "      <th>heat_t_conf_0</th>\n",
       "      <th>heat_t_red_0</th>\n",
       "      <th>heat_mask_0</th>\n",
       "      <th>ventilation_t_0</th>\n",
       "      <th>ventilation_vol_0</th>\n",
       "      <th>ventilation_mask_0</th>\n",
       "      <th>occupancy_0</th>\n",
       "      <th>pc_on_mask_0</th>\n",
       "      <th>DNI_0</th>\n",
       "      <th>IBEAM_H_0</th>\n",
       "      <th>IBEAM_N_0</th>\n",
       "      <th>IDIFF_H_0</th>\n",
       "      <th>IGLOB_H_0</th>\n",
       "      <th>RHUM_0</th>\n",
       "      <th>TAMB_0</th>\n",
       "      <th>T_INT_OFFICE_0</th>\n",
       "    </tr>\n",
       "  </thead>\n",
       "  <tbody>\n",
       "    <tr>\n",
       "      <th>0</th>\n",
       "      <td>15744.0</td>\n",
       "      <td>17232.0</td>\n",
       "      <td>292.0</td>\n",
       "      <td>13824.0</td>\n",
       "      <td>12672.0</td>\n",
       "      <td>284.0</td>\n",
       "      <td>12912.0</td>\n",
       "      <td>1104.0</td>\n",
       "      <td>272.0</td>\n",
       "      <td>220.0</td>\n",
       "      <td>269.2680</td>\n",
       "      <td>132889.0</td>\n",
       "      <td>90567.0</td>\n",
       "      <td>174589.0</td>\n",
       "      <td>82903.0</td>\n",
       "      <td>173471.0</td>\n",
       "      <td>41698.0</td>\n",
       "      <td>13550.0</td>\n",
       "      <td>16246.1087</td>\n",
       "    </tr>\n",
       "    <tr>\n",
       "      <th>1</th>\n",
       "      <td>15696.0</td>\n",
       "      <td>17232.0</td>\n",
       "      <td>288.0</td>\n",
       "      <td>13872.0</td>\n",
       "      <td>12336.0</td>\n",
       "      <td>288.0</td>\n",
       "      <td>13056.0</td>\n",
       "      <td>1296.0</td>\n",
       "      <td>244.0</td>\n",
       "      <td>220.0</td>\n",
       "      <td>282.7828</td>\n",
       "      <td>95349.0</td>\n",
       "      <td>50885.0</td>\n",
       "      <td>128549.0</td>\n",
       "      <td>51335.0</td>\n",
       "      <td>102239.0</td>\n",
       "      <td>15518.0</td>\n",
       "      <td>6968.9</td>\n",
       "      <td>14627.2995</td>\n",
       "    </tr>\n",
       "    <tr>\n",
       "      <th>2</th>\n",
       "      <td>15696.0</td>\n",
       "      <td>17136.0</td>\n",
       "      <td>280.0</td>\n",
       "      <td>13872.0</td>\n",
       "      <td>12432.0</td>\n",
       "      <td>316.0</td>\n",
       "      <td>12720.0</td>\n",
       "      <td>1008.0</td>\n",
       "      <td>268.0</td>\n",
       "      <td>220.0</td>\n",
       "      <td>300.2752</td>\n",
       "      <td>92963.0</td>\n",
       "      <td>56727.0</td>\n",
       "      <td>139089.0</td>\n",
       "      <td>69075.0</td>\n",
       "      <td>125822.0</td>\n",
       "      <td>40756.0</td>\n",
       "      <td>8491.8</td>\n",
       "      <td>15620.7851</td>\n",
       "    </tr>\n",
       "    <tr>\n",
       "      <th>3</th>\n",
       "      <td>15744.0</td>\n",
       "      <td>17136.0</td>\n",
       "      <td>268.0</td>\n",
       "      <td>13776.0</td>\n",
       "      <td>12432.0</td>\n",
       "      <td>300.0</td>\n",
       "      <td>12624.0</td>\n",
       "      <td>960.0</td>\n",
       "      <td>280.0</td>\n",
       "      <td>220.0</td>\n",
       "      <td>363.0128</td>\n",
       "      <td>37060.0</td>\n",
       "      <td>15822.0</td>\n",
       "      <td>70655.0</td>\n",
       "      <td>41543.0</td>\n",
       "      <td>57378.0</td>\n",
       "      <td>51918.0</td>\n",
       "      <td>9891.6</td>\n",
       "      <td>15325.9626</td>\n",
       "    </tr>\n",
       "    <tr>\n",
       "      <th>4</th>\n",
       "      <td>15744.0</td>\n",
       "      <td>17184.0</td>\n",
       "      <td>268.0</td>\n",
       "      <td>13920.0</td>\n",
       "      <td>12480.0</td>\n",
       "      <td>292.0</td>\n",
       "      <td>12912.0</td>\n",
       "      <td>864.0</td>\n",
       "      <td>280.0</td>\n",
       "      <td>220.0</td>\n",
       "      <td>360.9336</td>\n",
       "      <td>164557.0</td>\n",
       "      <td>111618.0</td>\n",
       "      <td>192637.0</td>\n",
       "      <td>79112.0</td>\n",
       "      <td>190726.0</td>\n",
       "      <td>38735.0</td>\n",
       "      <td>14364.6</td>\n",
       "      <td>16199.8736</td>\n",
       "    </tr>\n",
       "  </tbody>\n",
       "</table>\n",
       "</div>"
      ],
      "text/plain": [
       "   ac_t_conf_0  ac_t_red_0  ac_mask_0  heat_t_conf_0  heat_t_red_0  \\\n",
       "0      15744.0     17232.0      292.0        13824.0       12672.0   \n",
       "1      15696.0     17232.0      288.0        13872.0       12336.0   \n",
       "2      15696.0     17136.0      280.0        13872.0       12432.0   \n",
       "3      15744.0     17136.0      268.0        13776.0       12432.0   \n",
       "4      15744.0     17184.0      268.0        13920.0       12480.0   \n",
       "\n",
       "   heat_mask_0  ventilation_t_0  ventilation_vol_0  ventilation_mask_0  \\\n",
       "0        284.0          12912.0             1104.0               272.0   \n",
       "1        288.0          13056.0             1296.0               244.0   \n",
       "2        316.0          12720.0             1008.0               268.0   \n",
       "3        300.0          12624.0              960.0               280.0   \n",
       "4        292.0          12912.0              864.0               280.0   \n",
       "\n",
       "   occupancy_0  pc_on_mask_0     DNI_0  IBEAM_H_0  IBEAM_N_0  IDIFF_H_0  \\\n",
       "0        220.0      269.2680  132889.0    90567.0   174589.0    82903.0   \n",
       "1        220.0      282.7828   95349.0    50885.0   128549.0    51335.0   \n",
       "2        220.0      300.2752   92963.0    56727.0   139089.0    69075.0   \n",
       "3        220.0      363.0128   37060.0    15822.0    70655.0    41543.0   \n",
       "4        220.0      360.9336  164557.0   111618.0   192637.0    79112.0   \n",
       "\n",
       "   IGLOB_H_0   RHUM_0   TAMB_0  T_INT_OFFICE_0  \n",
       "0   173471.0  41698.0  13550.0      16246.1087  \n",
       "1   102239.0  15518.0   6968.9      14627.2995  \n",
       "2   125822.0  40756.0   8491.8      15620.7851  \n",
       "3    57378.0  51918.0   9891.6      15325.9626  \n",
       "4   190726.0  38735.0  14364.6      16199.8736  "
      ]
     },
     "execution_count": 11,
     "metadata": {},
     "output_type": "execute_result"
    }
   ],
   "source": [
    "X_red = reduce_columns_period_avg(X, columns_s, 28)\n",
    "X_red.head()\n",
    "#promedio de todos los dias en intervalos de 24 hs \n",
    "\n",
    "# ejemplo --- calculo el promedio en la hora 0 de todos los dia, asi hasta 24  ESTO ES MENSUAL \n",
    "#"
   ]
  },
  {
   "cell_type": "code",
   "execution_count": 12,
   "id": "230628e9",
   "metadata": {},
   "outputs": [
    {
     "data": {
      "text/plain": [
       "Index(['airchange_infiltration_vol_per_h', 'capacitance_kJ_perdegreK_perm3',\n",
       "       'power_VCV_kW_heat', 'power_VCV_kW_clim', 'nb_occupants', 'nb_PCs',\n",
       "       'facade_1_thickness_2', 'facade_1_window_area_percent',\n",
       "       'facade_2_thickness_2', 'facade_2_window_area_percent',\n",
       "       'facade_3_thickness_2', 'facade_3_window_area_percent',\n",
       "       'facade_4_thickness_2', 'facade_4_window_area_percent',\n",
       "       'roof_thickness_2', 'ground_thickness_2', 'init_day', 'init_month',\n",
       "       'init_year'],\n",
       "      dtype='object')"
      ]
     },
     "execution_count": 12,
     "metadata": {},
     "output_type": "execute_result"
    }
   ],
   "source": [
    "columns_c = X.columns[0:19]\n",
    "columns_c"
   ]
  },
  {
   "cell_type": "code",
   "execution_count": 13,
   "id": "cf1a2237",
   "metadata": {},
   "outputs": [],
   "source": [
    "columns_c = X.columns[0:16]"
   ]
  },
  {
   "cell_type": "code",
   "execution_count": 14,
   "id": "c65907f2",
   "metadata": {},
   "outputs": [
    {
     "data": {
      "text/html": [
       "<div>\n",
       "<style scoped>\n",
       "    .dataframe tbody tr th:only-of-type {\n",
       "        vertical-align: middle;\n",
       "    }\n",
       "\n",
       "    .dataframe tbody tr th {\n",
       "        vertical-align: top;\n",
       "    }\n",
       "\n",
       "    .dataframe thead th {\n",
       "        text-align: right;\n",
       "    }\n",
       "</style>\n",
       "<table border=\"1\" class=\"dataframe\">\n",
       "  <thead>\n",
       "    <tr style=\"text-align: right;\">\n",
       "      <th></th>\n",
       "      <th>airchange_infiltration_vol_per_h</th>\n",
       "      <th>capacitance_kJ_perdegreK_perm3</th>\n",
       "      <th>power_VCV_kW_heat</th>\n",
       "      <th>power_VCV_kW_clim</th>\n",
       "      <th>nb_occupants</th>\n",
       "      <th>nb_PCs</th>\n",
       "      <th>facade_1_thickness_2</th>\n",
       "      <th>facade_1_window_area_percent</th>\n",
       "      <th>facade_2_thickness_2</th>\n",
       "      <th>facade_2_window_area_percent</th>\n",
       "      <th>...</th>\n",
       "      <th>occupancy_0</th>\n",
       "      <th>pc_on_mask_0</th>\n",
       "      <th>DNI_0</th>\n",
       "      <th>IBEAM_H_0</th>\n",
       "      <th>IBEAM_N_0</th>\n",
       "      <th>IDIFF_H_0</th>\n",
       "      <th>IGLOB_H_0</th>\n",
       "      <th>RHUM_0</th>\n",
       "      <th>TAMB_0</th>\n",
       "      <th>T_INT_OFFICE_0</th>\n",
       "    </tr>\n",
       "  </thead>\n",
       "  <tbody>\n",
       "    <tr>\n",
       "      <th>0</th>\n",
       "      <td>0.1</td>\n",
       "      <td>20.0</td>\n",
       "      <td>500.0</td>\n",
       "      <td>500.0</td>\n",
       "      <td>1000.0</td>\n",
       "      <td>1000.0</td>\n",
       "      <td>0.15</td>\n",
       "      <td>45.0</td>\n",
       "      <td>0.06</td>\n",
       "      <td>45.0</td>\n",
       "      <td>...</td>\n",
       "      <td>220.0</td>\n",
       "      <td>269.2680</td>\n",
       "      <td>132889.0</td>\n",
       "      <td>90567.0</td>\n",
       "      <td>174589.0</td>\n",
       "      <td>82903.0</td>\n",
       "      <td>173471.0</td>\n",
       "      <td>41698.0</td>\n",
       "      <td>13550.0</td>\n",
       "      <td>16246.1087</td>\n",
       "    </tr>\n",
       "    <tr>\n",
       "      <th>1</th>\n",
       "      <td>0.3</td>\n",
       "      <td>30.0</td>\n",
       "      <td>600.0</td>\n",
       "      <td>500.0</td>\n",
       "      <td>1300.0</td>\n",
       "      <td>1400.0</td>\n",
       "      <td>0.09</td>\n",
       "      <td>40.0</td>\n",
       "      <td>0.11</td>\n",
       "      <td>50.0</td>\n",
       "      <td>...</td>\n",
       "      <td>220.0</td>\n",
       "      <td>282.7828</td>\n",
       "      <td>95349.0</td>\n",
       "      <td>50885.0</td>\n",
       "      <td>128549.0</td>\n",
       "      <td>51335.0</td>\n",
       "      <td>102239.0</td>\n",
       "      <td>15518.0</td>\n",
       "      <td>6968.9</td>\n",
       "      <td>14627.2995</td>\n",
       "    </tr>\n",
       "    <tr>\n",
       "      <th>2</th>\n",
       "      <td>0.1</td>\n",
       "      <td>270.0</td>\n",
       "      <td>500.0</td>\n",
       "      <td>600.0</td>\n",
       "      <td>1500.0</td>\n",
       "      <td>1500.0</td>\n",
       "      <td>0.08</td>\n",
       "      <td>45.0</td>\n",
       "      <td>0.07</td>\n",
       "      <td>40.0</td>\n",
       "      <td>...</td>\n",
       "      <td>220.0</td>\n",
       "      <td>300.2752</td>\n",
       "      <td>92963.0</td>\n",
       "      <td>56727.0</td>\n",
       "      <td>139089.0</td>\n",
       "      <td>69075.0</td>\n",
       "      <td>125822.0</td>\n",
       "      <td>40756.0</td>\n",
       "      <td>8491.8</td>\n",
       "      <td>15620.7851</td>\n",
       "    </tr>\n",
       "    <tr>\n",
       "      <th>3</th>\n",
       "      <td>0.4</td>\n",
       "      <td>140.0</td>\n",
       "      <td>500.0</td>\n",
       "      <td>600.0</td>\n",
       "      <td>1300.0</td>\n",
       "      <td>1300.0</td>\n",
       "      <td>0.08</td>\n",
       "      <td>45.0</td>\n",
       "      <td>0.08</td>\n",
       "      <td>50.0</td>\n",
       "      <td>...</td>\n",
       "      <td>220.0</td>\n",
       "      <td>363.0128</td>\n",
       "      <td>37060.0</td>\n",
       "      <td>15822.0</td>\n",
       "      <td>70655.0</td>\n",
       "      <td>41543.0</td>\n",
       "      <td>57378.0</td>\n",
       "      <td>51918.0</td>\n",
       "      <td>9891.6</td>\n",
       "      <td>15325.9626</td>\n",
       "    </tr>\n",
       "    <tr>\n",
       "      <th>4</th>\n",
       "      <td>0.4</td>\n",
       "      <td>40.0</td>\n",
       "      <td>600.0</td>\n",
       "      <td>600.0</td>\n",
       "      <td>1000.0</td>\n",
       "      <td>1500.0</td>\n",
       "      <td>0.06</td>\n",
       "      <td>50.0</td>\n",
       "      <td>0.07</td>\n",
       "      <td>45.0</td>\n",
       "      <td>...</td>\n",
       "      <td>220.0</td>\n",
       "      <td>360.9336</td>\n",
       "      <td>164557.0</td>\n",
       "      <td>111618.0</td>\n",
       "      <td>192637.0</td>\n",
       "      <td>79112.0</td>\n",
       "      <td>190726.0</td>\n",
       "      <td>38735.0</td>\n",
       "      <td>14364.6</td>\n",
       "      <td>16199.8736</td>\n",
       "    </tr>\n",
       "  </tbody>\n",
       "</table>\n",
       "<p>5 rows × 35 columns</p>\n",
       "</div>"
      ],
      "text/plain": [
       "   airchange_infiltration_vol_per_h  capacitance_kJ_perdegreK_perm3  \\\n",
       "0                               0.1                            20.0   \n",
       "1                               0.3                            30.0   \n",
       "2                               0.1                           270.0   \n",
       "3                               0.4                           140.0   \n",
       "4                               0.4                            40.0   \n",
       "\n",
       "   power_VCV_kW_heat  power_VCV_kW_clim  nb_occupants  nb_PCs  \\\n",
       "0              500.0              500.0        1000.0  1000.0   \n",
       "1              600.0              500.0        1300.0  1400.0   \n",
       "2              500.0              600.0        1500.0  1500.0   \n",
       "3              500.0              600.0        1300.0  1300.0   \n",
       "4              600.0              600.0        1000.0  1500.0   \n",
       "\n",
       "   facade_1_thickness_2  facade_1_window_area_percent  facade_2_thickness_2  \\\n",
       "0                  0.15                          45.0                  0.06   \n",
       "1                  0.09                          40.0                  0.11   \n",
       "2                  0.08                          45.0                  0.07   \n",
       "3                  0.08                          45.0                  0.08   \n",
       "4                  0.06                          50.0                  0.07   \n",
       "\n",
       "   facade_2_window_area_percent  ...  occupancy_0  pc_on_mask_0     DNI_0  \\\n",
       "0                          45.0  ...        220.0      269.2680  132889.0   \n",
       "1                          50.0  ...        220.0      282.7828   95349.0   \n",
       "2                          40.0  ...        220.0      300.2752   92963.0   \n",
       "3                          50.0  ...        220.0      363.0128   37060.0   \n",
       "4                          45.0  ...        220.0      360.9336  164557.0   \n",
       "\n",
       "   IBEAM_H_0  IBEAM_N_0  IDIFF_H_0  IGLOB_H_0   RHUM_0   TAMB_0  \\\n",
       "0    90567.0   174589.0    82903.0   173471.0  41698.0  13550.0   \n",
       "1    50885.0   128549.0    51335.0   102239.0  15518.0   6968.9   \n",
       "2    56727.0   139089.0    69075.0   125822.0  40756.0   8491.8   \n",
       "3    15822.0    70655.0    41543.0    57378.0  51918.0   9891.6   \n",
       "4   111618.0   192637.0    79112.0   190726.0  38735.0  14364.6   \n",
       "\n",
       "   T_INT_OFFICE_0  \n",
       "0      16246.1087  \n",
       "1      14627.2995  \n",
       "2      15620.7851  \n",
       "3      15325.9626  \n",
       "4      16199.8736  \n",
       "\n",
       "[5 rows x 35 columns]"
      ]
     },
     "execution_count": 14,
     "metadata": {},
     "output_type": "execute_result"
    }
   ],
   "source": [
    "X = pd.concat([X[columns_c], X_red], axis = 1)\n",
    "X.head()"
   ]
  },
  {
   "cell_type": "code",
   "execution_count": 15,
   "id": "7bbff470",
   "metadata": {},
   "outputs": [
    {
     "data": {
      "text/html": [
       "<div>\n",
       "<style scoped>\n",
       "    .dataframe tbody tr th:only-of-type {\n",
       "        vertical-align: middle;\n",
       "    }\n",
       "\n",
       "    .dataframe tbody tr th {\n",
       "        vertical-align: top;\n",
       "    }\n",
       "\n",
       "    .dataframe thead th {\n",
       "        text-align: right;\n",
       "    }\n",
       "</style>\n",
       "<table border=\"1\" class=\"dataframe\">\n",
       "  <thead>\n",
       "    <tr style=\"text-align: right;\">\n",
       "      <th></th>\n",
       "      <th>Q_AC_OFFICE_0</th>\n",
       "      <th>Q_HEAT_OFFICE_0</th>\n",
       "      <th>Q_PEOPLE_0</th>\n",
       "      <th>Q_EQP_0</th>\n",
       "      <th>Q_LIGHT_0</th>\n",
       "      <th>Q_AHU_C_0</th>\n",
       "      <th>Q_AHU_H_0</th>\n",
       "    </tr>\n",
       "  </thead>\n",
       "  <tbody>\n",
       "    <tr>\n",
       "      <th>0</th>\n",
       "      <td>10748.1049</td>\n",
       "      <td>0.0000</td>\n",
       "      <td>3240.0</td>\n",
       "      <td>3874.3458</td>\n",
       "      <td>2112.2700</td>\n",
       "      <td>3890.5751</td>\n",
       "      <td>1096.6969</td>\n",
       "    </tr>\n",
       "    <tr>\n",
       "      <th>1</th>\n",
       "      <td>1819.3670</td>\n",
       "      <td>469.0627</td>\n",
       "      <td>4212.0</td>\n",
       "      <td>5667.4181</td>\n",
       "      <td>2151.4910</td>\n",
       "      <td>40.6438</td>\n",
       "      <td>7093.4597</td>\n",
       "    </tr>\n",
       "    <tr>\n",
       "      <th>2</th>\n",
       "      <td>6245.3497</td>\n",
       "      <td>0.0000</td>\n",
       "      <td>4860.0</td>\n",
       "      <td>6409.7036</td>\n",
       "      <td>2027.7509</td>\n",
       "      <td>662.0432</td>\n",
       "      <td>4612.1041</td>\n",
       "    </tr>\n",
       "    <tr>\n",
       "      <th>3</th>\n",
       "      <td>2372.0553</td>\n",
       "      <td>0.0000</td>\n",
       "      <td>4212.0</td>\n",
       "      <td>6605.6016</td>\n",
       "      <td>2739.8060</td>\n",
       "      <td>285.1977</td>\n",
       "      <td>2852.4764</td>\n",
       "    </tr>\n",
       "    <tr>\n",
       "      <th>4</th>\n",
       "      <td>15234.8404</td>\n",
       "      <td>0.0000</td>\n",
       "      <td>3240.0</td>\n",
       "      <td>7581.4202</td>\n",
       "      <td>2093.6939</td>\n",
       "      <td>3937.5324</td>\n",
       "      <td>520.0846</td>\n",
       "    </tr>\n",
       "  </tbody>\n",
       "</table>\n",
       "</div>"
      ],
      "text/plain": [
       "   Q_AC_OFFICE_0  Q_HEAT_OFFICE_0  Q_PEOPLE_0    Q_EQP_0  Q_LIGHT_0  \\\n",
       "0     10748.1049           0.0000      3240.0  3874.3458  2112.2700   \n",
       "1      1819.3670         469.0627      4212.0  5667.4181  2151.4910   \n",
       "2      6245.3497           0.0000      4860.0  6409.7036  2027.7509   \n",
       "3      2372.0553           0.0000      4212.0  6605.6016  2739.8060   \n",
       "4     15234.8404           0.0000      3240.0  7581.4202  2093.6939   \n",
       "\n",
       "   Q_AHU_C_0  Q_AHU_H_0  \n",
       "0  3890.5751  1096.6969  \n",
       "1    40.6438  7093.4597  \n",
       "2   662.0432  4612.1041  \n",
       "3   285.1977  2852.4764  \n",
       "4  3937.5324   520.0846  "
      ]
     },
     "execution_count": 15,
     "metadata": {},
     "output_type": "execute_result"
    }
   ],
   "source": [
    "y_red = reduce_columns_period_sum(y, ['Q_AC_OFFICE', 'Q_HEAT_OFFICE', 'Q_PEOPLE', 'Q_EQP', 'Q_LIGHT', 'Q_AHU_C', 'Q_AHU_H'], 28)\n",
    "y_red.head()"
   ]
  },
  {
   "cell_type": "code",
   "execution_count": 16,
   "id": "b21a82ca",
   "metadata": {},
   "outputs": [],
   "source": [
    "X_train, X_test, y_train, y_test = train_test_split(X, y_red, test_size=0.33, random_state=42)"
   ]
  },
  {
   "cell_type": "code",
   "execution_count": 17,
   "id": "40421a65",
   "metadata": {},
   "outputs": [],
   "source": [
    "from sklearn.preprocessing import StandardScaler\n",
    "\n",
    "s_scaler = StandardScaler()\n",
    "\n",
    "X_train_scaled = pd.DataFrame(s_scaler.fit_transform(X_train))\n",
    "X_test_scaled = pd.DataFrame(s_scaler.transform(X_test))\n",
    "y_train_scaled = pd.DataFrame(s_scaler.fit_transform(y_train))\n",
    "y_test_scaled = pd.DataFrame(s_scaler.transform(y_test))"
   ]
  },
  {
   "cell_type": "code",
   "execution_count": 18,
   "id": "9e89be7d",
   "metadata": {},
   "outputs": [],
   "source": [
    "X_train_scaled.columns = X_train.columns\n",
    "X_test_scaled.columns = X_test.columns\n",
    "y_train_scaled.columns = y_train.columns\n",
    "y_test_scaled.columns = y_test.columns"
   ]
  },
  {
   "cell_type": "code",
   "execution_count": 19,
   "id": "c9641bc5",
   "metadata": {},
   "outputs": [
    {
     "data": {
      "text/plain": [
       "(5025, 35)"
      ]
     },
     "execution_count": 19,
     "metadata": {},
     "output_type": "execute_result"
    }
   ],
   "source": [
    "X_train_scaled.shape"
   ]
  },
  {
   "cell_type": "code",
   "execution_count": 20,
   "id": "7cc235de",
   "metadata": {},
   "outputs": [
    {
     "data": {
      "text/plain": [
       "Index(['airchange_infiltration_vol_per_h', 'capacitance_kJ_perdegreK_perm3',\n",
       "       'power_VCV_kW_heat', 'power_VCV_kW_clim', 'nb_occupants', 'nb_PCs',\n",
       "       'facade_1_thickness_2', 'facade_1_window_area_percent',\n",
       "       'facade_2_thickness_2', 'facade_2_window_area_percent',\n",
       "       'facade_3_thickness_2', 'facade_3_window_area_percent',\n",
       "       'facade_4_thickness_2', 'facade_4_window_area_percent',\n",
       "       'roof_thickness_2', 'ground_thickness_2', 'ac_t_conf_0', 'ac_t_red_0',\n",
       "       'ac_mask_0', 'heat_t_conf_0', 'heat_t_red_0', 'heat_mask_0',\n",
       "       'ventilation_t_0', 'ventilation_vol_0', 'ventilation_mask_0',\n",
       "       'occupancy_0', 'pc_on_mask_0', 'DNI_0', 'IBEAM_H_0', 'IBEAM_N_0',\n",
       "       'IDIFF_H_0', 'IGLOB_H_0', 'RHUM_0', 'TAMB_0', 'T_INT_OFFICE_0'],\n",
       "      dtype='object')"
      ]
     },
     "execution_count": 20,
     "metadata": {},
     "output_type": "execute_result"
    }
   ],
   "source": [
    "X_train_scaled.columns"
   ]
  },
  {
   "cell_type": "code",
   "execution_count": 21,
   "id": "821bb160",
   "metadata": {},
   "outputs": [
    {
     "data": {
      "text/plain": [
       "Index(['Q_AC_OFFICE_0', 'Q_HEAT_OFFICE_0', 'Q_PEOPLE_0', 'Q_EQP_0',\n",
       "       'Q_LIGHT_0', 'Q_AHU_C_0', 'Q_AHU_H_0'],\n",
       "      dtype='object')"
      ]
     },
     "execution_count": 21,
     "metadata": {},
     "output_type": "execute_result"
    }
   ],
   "source": [
    "y_train_scaled.columns"
   ]
  },
  {
   "cell_type": "code",
   "execution_count": 22,
   "id": "ed8a1a45",
   "metadata": {},
   "outputs": [
    {
     "data": {
      "text/plain": [
       "(5025, 7)"
      ]
     },
     "execution_count": 22,
     "metadata": {},
     "output_type": "execute_result"
    }
   ],
   "source": [
    "y_train_scaled.shape"
   ]
  },
  {
   "cell_type": "markdown",
   "id": "75b31005",
   "metadata": {},
   "source": [
    "# RED "
   ]
  },
  {
   "cell_type": "code",
   "execution_count": 23,
   "id": "dbfcf1bd",
   "metadata": {},
   "outputs": [
    {
     "name": "stderr",
     "output_type": "stream",
     "text": [
      "2021-10-19 18:57:38.703728: W tensorflow/stream_executor/platform/default/dso_loader.cc:64] Could not load dynamic library 'libcudart.so.11.0'; dlerror: libcudart.so.11.0: cannot open shared object file: No such file or directory\n",
      "2021-10-19 18:57:38.703786: I tensorflow/stream_executor/cuda/cudart_stub.cc:29] Ignore above cudart dlerror if you do not have a GPU set up on your machine.\n"
     ]
    }
   ],
   "source": [
    "from tensorflow.keras import *"
   ]
  },
  {
   "cell_type": "code",
   "execution_count": 35,
   "id": "b4199d27",
   "metadata": {},
   "outputs": [],
   "source": [
    "from tensorflow.keras.models import Sequential\n",
    "from tensorflow.keras import layers\n",
    "from tensorflow.keras.callbacks import EarlyStopping\n",
    "from keras import backend as K"
   ]
  },
  {
   "cell_type": "code",
   "execution_count": 40,
   "id": "0f02cc22",
   "metadata": {},
   "outputs": [],
   "source": [
    "def det_coeff(y_test_scaled, y_pred):\n",
    "    u = K.sum(K.square(y_test_scaled - y_pred))\n",
    "    v = K.sum(K.square(y_test_scaled - K.mean(y_test_scaled)))\n",
    "    return K.ones_like(v) - (u / v)"
   ]
  },
  {
   "cell_type": "code",
   "execution_count": 41,
   "id": "32314ca6",
   "metadata": {},
   "outputs": [],
   "source": [
    "def initialize_model():\n",
    "    \n",
    "    model = Sequential()\n",
    "    model.add(layers.Dense(1500, activation='relu',input_dim=35))    \n",
    "       \n",
    "    model.add(layers.Dense(250, activation='relu'))\n",
    "    \n",
    "    model.add(layers.Dense(200, activation='relu'))\n",
    "        \n",
    "    model.add(layers.Dense(250, activation='relu'))\n",
    "    \n",
    "    model.add(layers.Dense(7, activation='linear'))\n",
    "    \n",
    "    \n",
    "    model.compile(loss=\"mean_squared_error\", optimizer=\"adam\", metrics=[det_coeff])\n",
    "             \n",
    "    \n",
    "    return model\n",
    "\n",
    "model = initialize_model()\n",
    "\n",
    "es = EarlyStopping(patience=25, restore_best_weights=True)\n",
    "history = model.fit(X_train_scaled, y_train_scaled,\n",
    "                    validation_split=0.3,\n",
    "                    #validation_data=(X_test_scaled, y_test),\n",
    "                    epochs=500, #play with this until your validation loss overfit\n",
    "                    batch_size=32, # Keep batch size to 16 today\n",
    "                    verbose=0,\n",
    "                    callbacks=[es])"
   ]
  },
  {
   "cell_type": "code",
   "execution_count": 42,
   "id": "287863a2",
   "metadata": {},
   "outputs": [
    {
     "name": "stdout",
     "output_type": "stream",
     "text": [
      "Model: \"sequential_12\"\n",
      "_________________________________________________________________\n",
      "Layer (type)                 Output Shape              Param #   \n",
      "=================================================================\n",
      "dense_60 (Dense)             (None, 1500)              54000     \n",
      "_________________________________________________________________\n",
      "dense_61 (Dense)             (None, 250)               375250    \n",
      "_________________________________________________________________\n",
      "dense_62 (Dense)             (None, 200)               50200     \n",
      "_________________________________________________________________\n",
      "dense_63 (Dense)             (None, 250)               50250     \n",
      "_________________________________________________________________\n",
      "dense_64 (Dense)             (None, 7)                 1757      \n",
      "=================================================================\n",
      "Total params: 531,457\n",
      "Trainable params: 531,457\n",
      "Non-trainable params: 0\n",
      "_________________________________________________________________\n"
     ]
    }
   ],
   "source": [
    "model.summary();"
   ]
  },
  {
   "cell_type": "code",
   "execution_count": 44,
   "id": "cff647c3",
   "metadata": {},
   "outputs": [
    {
     "name": "stdout",
     "output_type": "stream",
     "text": [
      "The r_square on the test set is of 0.81\n"
     ]
    }
   ],
   "source": [
    "results = model.evaluate(X_test_scaled, y_test_scaled, verbose=0)\n",
    "print(f'The r_square on the test set is of {results[1]:.2f}')"
   ]
  },
  {
   "cell_type": "code",
   "execution_count": 45,
   "id": "5b50eaee",
   "metadata": {},
   "outputs": [
    {
     "data": {
      "text/plain": [
       "[0.18985407054424286, 0.806775689125061]"
      ]
     },
     "execution_count": 45,
     "metadata": {},
     "output_type": "execute_result"
    }
   ],
   "source": [
    "results"
   ]
  },
  {
   "cell_type": "code",
   "execution_count": 46,
   "id": "b31cc2b2",
   "metadata": {},
   "outputs": [],
   "source": [
    "y_pred= model.predict(X_test_scaled)"
   ]
  },
  {
   "cell_type": "code",
   "execution_count": null,
   "id": "740e04bb",
   "metadata": {},
   "outputs": [],
   "source": [
    "data_df = pd.DataFrame(y_pred)"
   ]
  },
  {
   "cell_type": "code",
   "execution_count": null,
   "id": "80efda2e",
   "metadata": {},
   "outputs": [],
   "source": [
    "data_df"
   ]
  },
  {
   "cell_type": "code",
   "execution_count": null,
   "id": "20279d5c",
   "metadata": {},
   "outputs": [],
   "source": [
    "import matplotlib.pyplot as plt\n",
    "%matplotlib inline"
   ]
  },
  {
   "cell_type": "code",
   "execution_count": null,
   "id": "9d03efde",
   "metadata": {},
   "outputs": [],
   "source": [
    "def plot_loss_accuracy(history, title=None):\n",
    "    fig, ax = plt.subplots(1,2, figsize=(20,7))\n",
    "    \n",
    "    # --- LOSS --- \n",
    "    \n",
    "    ax[0].plot(history.history['loss'])\n",
    "    ax[0].plot(history.history['val_loss'])\n",
    "    ax[0].set_title('Model loss')\n",
    "    ax[0].set_ylabel('Loss')\n",
    "    ax[0].set_xlabel('Epoch')\n",
    "    ax[0].set_ylim((0,.5))\n",
    "    ax[0].legend(['Train', 'Test'], loc='best')\n",
    "    ax[0].grid(axis=\"x\",linewidth=0.5)\n",
    "    ax[0].grid(axis=\"y\",linewidth=0.5)\n",
    "    \n",
    "    # --- ACCURACY\n",
    "    \n",
    "    ax[1].plot(history.history['mae'])\n",
    "    ax[1].plot(history.history['val_mae'])\n",
    "    ax[1].set_title('Model mean_absolute_error')\n",
    "    ax[1].set_ylabel('mean_absolute_error')\n",
    "    ax[1].set_xlabel('Epoch')\n",
    "    ax[1].legend(['Train', 'Test'], loc='best')\n",
    "    ax[1].set_ylim((0,0.5))\n",
    "    ax[1].grid(axis=\"x\",linewidth=0.5)\n",
    "    ax[1].grid(axis=\"y\",linewidth=0.5)\n",
    "    \n",
    "    if title:\n",
    "        fig.suptitle(title)"
   ]
  },
  {
   "cell_type": "code",
   "execution_count": null,
   "id": "298e26ec",
   "metadata": {},
   "outputs": [],
   "source": [
    "plot_loss_accuracy(history)"
   ]
  },
  {
   "cell_type": "code",
   "execution_count": null,
   "id": "728a37d9",
   "metadata": {},
   "outputs": [],
   "source": []
  }
 ],
 "metadata": {
  "kernelspec": {
   "display_name": "Python 3 (ipykernel)",
   "language": "python",
   "name": "python3"
  },
  "language_info": {
   "codemirror_mode": {
    "name": "ipython",
    "version": 3
   },
   "file_extension": ".py",
   "mimetype": "text/x-python",
   "name": "python",
   "nbconvert_exporter": "python",
   "pygments_lexer": "ipython3",
   "version": "3.8.12"
  },
  "toc": {
   "base_numbering": 1,
   "nav_menu": {},
   "number_sections": true,
   "sideBar": true,
   "skip_h1_title": false,
   "title_cell": "Table of Contents",
   "title_sidebar": "Contents",
   "toc_cell": false,
   "toc_position": {},
   "toc_section_display": true,
   "toc_window_display": false
  }
 },
 "nbformat": 4,
 "nbformat_minor": 5
}
